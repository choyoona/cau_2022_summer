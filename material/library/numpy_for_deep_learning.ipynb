{
  "cells": [
    {
      "cell_type": "markdown",
      "metadata": {
        "id": "w6UWi8xnQoLm"
      },
      "source": [
        "# Numpy for Deep Learning"
      ]
    },
    {
      "cell_type": "markdown",
      "metadata": {
        "id": "ecuDyHQ76knX"
      },
      "source": [
        "# 설치"
      ]
    },
    {
      "cell_type": "code",
      "execution_count": 1,
      "metadata": {
        "colab": {
          "base_uri": "https://localhost:8080/"
        },
        "id": "z2-FJJ8b6eZo",
        "outputId": "755eceac-3f07-4d15-d4c1-246c4406ce4c"
      },
      "outputs": [
        {
          "name": "stdout",
          "output_type": "stream",
          "text": [
            "Looking in indexes: https://pypi.org/simple, https://us-python.pkg.dev/colab-wheels/public/simple/\n",
            "Requirement already satisfied: numpy in /usr/local/lib/python3.7/dist-packages (1.21.6)\n"
          ]
        }
      ],
      "source": [
        "%pip install numpy"
      ]
    },
    {
      "cell_type": "markdown",
      "metadata": {
        "id": "GUQzgMXf6l_y"
      },
      "source": [
        "# 임포팅"
      ]
    },
    {
      "cell_type": "code",
      "execution_count": 2,
      "metadata": {
        "id": "xV3jVYiFL-jO"
      },
      "outputs": [],
      "source": [
        "import numpy as np\n"
      ]
    },
    {
      "cell_type": "markdown",
      "metadata": {
        "id": "Uj_Akmzx6qbF"
      },
      "source": [
        "# python list하고 비슷"
      ]
    },
    {
      "cell_type": "code",
      "execution_count": 3,
      "metadata": {
        "colab": {
          "base_uri": "https://localhost:8080/"
        },
        "id": "qeqF5uD875UG",
        "outputId": "9f94b6e0-60a6-4922-f0b2-6637073ca438"
      },
      "outputs": [
        {
          "name": "stdout",
          "output_type": "stream",
          "text": [
            "[0 1 2 3 4]\n",
            "a[0] = 0\n",
            "a[1] = 1\n",
            "a[1:3] = [1 2]\n",
            "a[0:3] = [0 1 2]\n",
            "a[1:] = [1 2 3 4]\n",
            "a[:] = [0 1 2 3 4]\n"
          ]
        }
      ],
      "source": [
        "a = np.array([0,1,2,3,4])\n",
        "\n",
        "print(a)\n",
        "print(\"a[0] =\",a[0])\n",
        "print(\"a[1] =\",a[1])\n",
        "print(\"a[1:3] =\",a[1:3])\n",
        "print(\"a[0:3] =\",a[0:3])\n",
        "print(\"a[1:] =\",a[1:])\n",
        "print(\"a[:] =\",a[:])"
      ]
    },
    {
      "cell_type": "markdown",
      "metadata": {
        "id": "x4ch08I-8gVc"
      },
      "source": [
        "기본적으로 python의 리스트 참조 방법과 같다."
      ]
    },
    {
      "cell_type": "code",
      "execution_count": 3,
      "metadata": {
        "id": "Z-srJKHR8gEN"
      },
      "outputs": [],
      "source": []
    },
    {
      "cell_type": "code",
      "execution_count": 4,
      "metadata": {
        "colab": {
          "base_uri": "https://localhost:8080/"
        },
        "id": "R91NHIkx8MzU",
        "outputId": "4fb50077-0f33-45a9-e6fa-e7be38a19bb4"
      },
      "outputs": [
        {
          "name": "stdout",
          "output_type": "stream",
          "text": [
            "[[0 1 2]\n",
            " [3 4 5]]\n",
            "a[0] = [0 1 2]\n",
            "a[1] = [3 4 5]\n",
            "a[1:3]\n",
            " [[3 4 5]]\n",
            "a[0:3]\n",
            " [[0 1 2]\n",
            " [3 4 5]]\n",
            "a[1:]\n",
            " [[3 4 5]]\n",
            "a[:]\n",
            " [[0 1 2]\n",
            " [3 4 5]]\n",
            "a[1][2] = 5\n",
            "a[1,2] = 5\n"
          ]
        }
      ],
      "source": [
        "a = np.array([ [0,1,2], [3,4,5] ])\n",
        "\n",
        "print(a)\n",
        "print(\"a[0] =\",a[0])\n",
        "print(\"a[1] =\",a[1])\n",
        "print(\"a[1:3]\\n\",a[1:3])\n",
        "print(\"a[0:3]\\n\",a[0:3])\n",
        "print(\"a[1:]\\n\",a[1:])\n",
        "print(\"a[:]\\n\",a[:])\n",
        "\n",
        "print(\"a[1][2] =\",a[1][2])\n",
        "print(\"a[1,2] =\",a[1,2])"
      ]
    },
    {
      "cell_type": "markdown",
      "metadata": {
        "id": "CyM_VixA9T9Z"
      },
      "source": [
        "특정 요소 1개를 참조할 때 a[1][2]는 a[1,2]로 표현해서 사용할 수 있다.\n",
        "\n",
        "마찬가지로 1개 값을 참조할 때는 a[1][2][3]은 a[1,2,3]의 값과 같다."
      ]
    },
    {
      "cell_type": "code",
      "execution_count": 4,
      "metadata": {
        "id": "20bFLcQg9RbM"
      },
      "outputs": [],
      "source": []
    },
    {
      "cell_type": "markdown",
      "metadata": {
        "id": "SojDsjem9m4D"
      },
      "source": [
        "# numpy array 속성"
      ]
    },
    {
      "cell_type": "code",
      "execution_count": 5,
      "metadata": {
        "colab": {
          "base_uri": "https://localhost:8080/"
        },
        "id": "9lGBp0EL6sTs",
        "outputId": "0b19d380-115e-46c2-a356-32029b4fbb47"
      },
      "outputs": [
        {
          "name": "stdout",
          "output_type": "stream",
          "text": [
            "[0 1 2 3 4]\n",
            "a.shape = (5,)\n",
            "a.ndim = 1\n",
            "a.dtype = int64\n"
          ]
        }
      ],
      "source": [
        "a = np.array([0,1,2,3,4])\n",
        "\n",
        "print(a)\n",
        "print(\"a.shape =\", a.shape) # 데이터 모양\n",
        "print(\"a.ndim =\", a.ndim)   # 차원 수. number of dimension\n",
        "print(\"a.dtype =\", a.dtype) # 데이터 타입. data type"
      ]
    },
    {
      "cell_type": "markdown",
      "metadata": {
        "id": "ZCe0pAOX7Jp8"
      },
      "source": [
        "shape는 튜플로 표현된다.\n",
        "\n",
        "1차원이고 5개 값을 같는 넘파이 어레이는 튜플 (5,)의 모양을 갖는다."
      ]
    },
    {
      "cell_type": "code",
      "execution_count": 6,
      "metadata": {
        "colab": {
          "base_uri": "https://localhost:8080/"
        },
        "id": "U2I2WPXz7Yf2",
        "outputId": "1b4808d6-b6c5-4c31-9431-e3a8db5a53ae"
      },
      "outputs": [
        {
          "name": "stdout",
          "output_type": "stream",
          "text": [
            "[[0 1 2]\n",
            " [3 4 5]]\n",
            "a.shape = (2, 3)\n",
            "a.ndim = 2\n",
            "a.dtype = int64\n"
          ]
        }
      ],
      "source": [
        "l = [ [0,1,2], [3,4,5] ]\n",
        "a = np.array(l)\n",
        "\n",
        "print(a)\n",
        "print(\"a.shape =\", a.shape)\n",
        "print(\"a.ndim =\", a.ndim)\n",
        "print(\"a.dtype =\", a.dtype)"
      ]
    },
    {
      "cell_type": "markdown",
      "metadata": {
        "id": "RnpZmxry7qcP"
      },
      "source": [
        "이 경우는 2차원 배열.\n",
        "\n",
        "shape는 (2,3). \n",
        "\n",
        "행이 2개 이고, 열이 3개이다.\n",
        "\n",
        "혹은 2개의 데이터가 있고, 각 데이터는 3개의 값으로 이루어져 있다."
      ]
    },
    {
      "cell_type": "markdown",
      "metadata": {
        "id": "2kLA4z2_-YAH"
      },
      "source": [
        "# print array 유틸 함수 pa(), paf() 선언"
      ]
    },
    {
      "cell_type": "code",
      "execution_count": 7,
      "metadata": {
        "id": "kPbzUP1M9-z9"
      },
      "outputs": [],
      "source": [
        "def pa(a, message=None): # print array\n",
        "  if message!=None:\n",
        "    print(message)\n",
        "  print(a)\n",
        "  print()  \n",
        "\n",
        "def paf(a, message=None): # print array\n",
        "  message = message+\"\\n\" if message!=None else \"\"\n",
        "  message = \"{}shape={}, dimension={}, dtype={}\".format(message, a.shape, a.ndim, a.dtype)\n",
        "  pa(a, message)"
      ]
    },
    {
      "cell_type": "code",
      "execution_count": 8,
      "metadata": {
        "colab": {
          "base_uri": "https://localhost:8080/"
        },
        "id": "11P_lZW0-Njh",
        "outputId": "826b3d4d-fdde-494a-e500-32515b1e2a30"
      },
      "outputs": [
        {
          "name": "stdout",
          "output_type": "stream",
          "text": [
            "shape=(4,), dimension=1, dtype=int64\n",
            "[0 1 2 3]\n",
            "\n"
          ]
        }
      ],
      "source": [
        "a = np.array([0,1,2,3])\n",
        "paf(a)"
      ]
    },
    {
      "cell_type": "code",
      "execution_count": 9,
      "metadata": {
        "colab": {
          "base_uri": "https://localhost:8080/"
        },
        "id": "ZW0eUZcQ-NJ0",
        "outputId": "88d137ca-69d4-4600-8be3-7831abfe0843"
      },
      "outputs": [
        {
          "name": "stdout",
          "output_type": "stream",
          "text": [
            "shape=(2, 3), dimension=2, dtype=int64\n",
            "[[0 1 2]\n",
            " [3 4 5]]\n",
            "\n"
          ]
        }
      ],
      "source": [
        "a = np.array([[0,1,2], [3,4,5]])\n",
        "paf(a)"
      ]
    },
    {
      "cell_type": "markdown",
      "metadata": {
        "id": "7Tt2FVzb-qfo"
      },
      "source": [
        "# numpy.arange()"
      ]
    },
    {
      "cell_type": "code",
      "execution_count": 10,
      "metadata": {
        "colab": {
          "base_uri": "https://localhost:8080/"
        },
        "id": "CSeurtFW-VJg",
        "outputId": "5521f964-0377-4f72-c232-06a66b1521ed"
      },
      "outputs": [
        {
          "name": "stdout",
          "output_type": "stream",
          "text": [
            "shape=(12,), dimension=1, dtype=int64\n",
            "[ 0  1  2  3  4  5  6  7  8  9 10 11]\n",
            "\n"
          ]
        }
      ],
      "source": [
        "a = np.arange(12)\n",
        "paf(a)"
      ]
    },
    {
      "cell_type": "markdown",
      "metadata": {
        "id": "9nTQObBv-1Wt"
      },
      "source": [
        "np.arange(12)는 for i in range(12)에서 반복되는 정수들 값으로 numpy array를 생성한다.\n",
        "\n",
        "python의 range(start, end, step)의 파라매터 설정과 동일하다."
      ]
    },
    {
      "cell_type": "code",
      "execution_count": 11,
      "metadata": {
        "colab": {
          "base_uri": "https://localhost:8080/"
        },
        "id": "7LRK__qf_yG7",
        "outputId": "f341221c-ee8f-4b93-8520-fe17d3de2db5"
      },
      "outputs": [
        {
          "name": "stdout",
          "output_type": "stream",
          "text": [
            "shape=(7,), dimension=1, dtype=int64\n",
            "[3 4 5 6 7 8 9]\n",
            "\n"
          ]
        }
      ],
      "source": [
        "a = np.arange(3,10)\n",
        "paf(a)"
      ]
    },
    {
      "cell_type": "code",
      "execution_count": 12,
      "metadata": {
        "colab": {
          "base_uri": "https://localhost:8080/"
        },
        "id": "m-hd7Gfc_1Rh",
        "outputId": "ab7221b6-12ab-4e21-e44e-93509c809f00"
      },
      "outputs": [
        {
          "name": "stdout",
          "output_type": "stream",
          "text": [
            "shape=(4,), dimension=1, dtype=int64\n",
            "[3 5 7 9]\n",
            "\n"
          ]
        }
      ],
      "source": [
        "a = np.arange(3,10,2)\n",
        "paf(a)"
      ]
    },
    {
      "cell_type": "markdown",
      "metadata": {
        "id": "TWKvt2Hr_qX0"
      },
      "source": [
        "# 모양 변경 - reshape()"
      ]
    },
    {
      "cell_type": "code",
      "execution_count": 13,
      "metadata": {
        "colab": {
          "base_uri": "https://localhost:8080/"
        },
        "id": "Upvh2LU6-vHM",
        "outputId": "f10f03c3-dae8-4cf1-c240-501752d374db"
      },
      "outputs": [
        {
          "name": "stdout",
          "output_type": "stream",
          "text": [
            "shape=(3, 4), dimension=2, dtype=int64\n",
            "[[ 0  1  2  3]\n",
            " [ 4  5  6  7]\n",
            " [ 8  9 10 11]]\n",
            "\n"
          ]
        }
      ],
      "source": [
        "a = np.arange(12).reshape(3,4)\n",
        "paf(a)"
      ]
    },
    {
      "cell_type": "markdown",
      "metadata": {
        "id": "Y3RgUssZ_AsD"
      },
      "source": [
        "reshape(3,4)는 (3,4)의 모양으로 바꾼다."
      ]
    },
    {
      "cell_type": "code",
      "execution_count": 14,
      "metadata": {
        "colab": {
          "base_uri": "https://localhost:8080/"
        },
        "id": "9146uY-5_FiH",
        "outputId": "93a4b80f-87ef-4862-9625-96056198ed5c"
      },
      "outputs": [
        {
          "name": "stdout",
          "output_type": "stream",
          "text": [
            "shape=(12,), dimension=1, dtype=int64\n",
            "[ 0  1  2  3  4  5  6  7  8  9 10 11]\n",
            "\n",
            "a.reshape(3,4)\n",
            "shape=(12,), dimension=1, dtype=int64\n",
            "[ 0  1  2  3  4  5  6  7  8  9 10 11]\n",
            "\n",
            "b = a.reshape(3,4)\n",
            "shape=(3, 4), dimension=2, dtype=int64\n",
            "[[ 0  1  2  3]\n",
            " [ 4  5  6  7]\n",
            " [ 8  9 10 11]]\n",
            "\n",
            "a = np.arange(12).reshape(3,4)\n",
            "shape=(3, 4), dimension=2, dtype=int64\n",
            "[[ 0  1  2  3]\n",
            " [ 4  5  6  7]\n",
            " [ 8  9 10 11]]\n",
            "\n"
          ]
        }
      ],
      "source": [
        "a = np.arange(12)\n",
        "paf(a)\n",
        "\n",
        "a.reshape(3,4)\n",
        "paf(a,\"a.reshape(3,4)\")\n",
        "\n",
        "b = a.reshape(3,4)\n",
        "paf(b, \"b = a.reshape(3,4)\")\n",
        "\n",
        "a = np.arange(12).reshape(3,4)\n",
        "paf(a, \"a = np.arange(12).reshape(3,4)\")"
      ]
    },
    {
      "cell_type": "markdown",
      "metadata": {
        "id": "IInqVlyn_SjC"
      },
      "source": [
        "reshape(3,4)는 자체의 모양을 바꾸지 않고, 모양을 바꾼 numpy array를 새로 생성해서 반환한다.\n",
        "\n",
        "그래서 반환된 것을 다른 변수로 받아야 한다."
      ]
    },
    {
      "cell_type": "code",
      "execution_count": 15,
      "metadata": {
        "colab": {
          "base_uri": "https://localhost:8080/"
        },
        "id": "8nmzscHh_cr5",
        "outputId": "49c46bc1-9e75-4048-9d3c-fb3deea52db3"
      },
      "outputs": [
        {
          "name": "stdout",
          "output_type": "stream",
          "text": [
            "reshape(3,4)\n",
            "shape=(3, 4), dimension=2, dtype=int64\n",
            "[[ 0  1  2  3]\n",
            " [ 4  5  6  7]\n",
            " [ 8  9 10 11]]\n",
            "\n",
            "reshape(3,-1)\n",
            "shape=(3, 4), dimension=2, dtype=int64\n",
            "[[ 0  1  2  3]\n",
            " [ 4  5  6  7]\n",
            " [ 8  9 10 11]]\n",
            "\n",
            "reshape(-1,4)\n",
            "shape=(3, 4), dimension=2, dtype=int64\n",
            "[[ 0  1  2  3]\n",
            " [ 4  5  6  7]\n",
            " [ 8  9 10 11]]\n",
            "\n"
          ]
        }
      ],
      "source": [
        "a = np.arange(12).reshape(3,4)\n",
        "paf(a, \"reshape(3,4)\")\n",
        "\n",
        "a = np.arange(12).reshape(3,-1)\n",
        "paf(a, \"reshape(3,-1)\")\n",
        "\n",
        "a = np.arange(12).reshape(-1,4)\n",
        "paf(a, \"reshape(-1,4)\")"
      ]
    },
    {
      "cell_type": "markdown",
      "metadata": {
        "id": "aibmjCJNAYU7"
      },
      "source": [
        "reshape에 -1 값을 주면 나머지 차원의 크기를 가지고 유추한다."
      ]
    },
    {
      "cell_type": "code",
      "execution_count": 16,
      "metadata": {
        "colab": {
          "base_uri": "https://localhost:8080/"
        },
        "id": "HRRWhHbuAXA3",
        "outputId": "7293621d-e718-409c-8078-786d511b6e71"
      },
      "outputs": [
        {
          "name": "stdout",
          "output_type": "stream",
          "text": [
            "reshape(2,3,4)\n",
            "shape=(2, 3, 4), dimension=3, dtype=int64\n",
            "[[[ 0  1  2  3]\n",
            "  [ 4  5  6  7]\n",
            "  [ 8  9 10 11]]\n",
            "\n",
            " [[12 13 14 15]\n",
            "  [16 17 18 19]\n",
            "  [20 21 22 23]]]\n",
            "\n",
            "reshape(-1,3,4)\n",
            "shape=(2, 3, 4), dimension=3, dtype=int64\n",
            "[[[ 0  1  2  3]\n",
            "  [ 4  5  6  7]\n",
            "  [ 8  9 10 11]]\n",
            "\n",
            " [[12 13 14 15]\n",
            "  [16 17 18 19]\n",
            "  [20 21 22 23]]]\n",
            "\n",
            "reshape(2,-1,4)\n",
            "shape=(2, 3, 4), dimension=3, dtype=int64\n",
            "[[[ 0  1  2  3]\n",
            "  [ 4  5  6  7]\n",
            "  [ 8  9 10 11]]\n",
            "\n",
            " [[12 13 14 15]\n",
            "  [16 17 18 19]\n",
            "  [20 21 22 23]]]\n",
            "\n",
            "reshape(2,3,-4)\n",
            "shape=(2, 3, 4), dimension=3, dtype=int64\n",
            "[[[ 0  1  2  3]\n",
            "  [ 4  5  6  7]\n",
            "  [ 8  9 10 11]]\n",
            "\n",
            " [[12 13 14 15]\n",
            "  [16 17 18 19]\n",
            "  [20 21 22 23]]]\n",
            "\n"
          ]
        }
      ],
      "source": [
        "a = np.arange(24).reshape(2,3,4)\n",
        "paf(a, \"reshape(2,3,4)\")\n",
        "\n",
        "a = np.arange(24).reshape(-1,3,4)\n",
        "paf(a, \"reshape(-1,3,4)\")\n",
        "\n",
        "a = np.arange(24).reshape(2,-1,4)\n",
        "paf(a, \"reshape(2,-1,4)\")\n",
        "\n",
        "a = np.arange(24).reshape(2,3,-4)\n",
        "paf(a, \"reshape(2,3,-4)\")"
      ]
    },
    {
      "cell_type": "markdown",
      "metadata": {
        "id": "IXJgJz1JCNCy"
      },
      "source": [
        "# 생성 방법\n",
        "```\n",
        "np.zeros()\n",
        "np.ones()\n",
        "np.full()\n",
        "np.zeros_like()\n",
        "np.ones_like()\n",
        "np.full_like()\n",
        "\n",
        "np.eye()\n",
        "```"
      ]
    },
    {
      "cell_type": "markdown",
      "metadata": {
        "id": "qKvp7fGXETun"
      },
      "source": [
        "## numpy.zeros(), ones(), full()"
      ]
    },
    {
      "cell_type": "code",
      "execution_count": 17,
      "metadata": {
        "colab": {
          "base_uri": "https://localhost:8080/"
        },
        "id": "P677y13SCOzJ",
        "outputId": "dcbb5487-cb42-4ce1-d79c-a3108b3ce874"
      },
      "outputs": [
        {
          "name": "stdout",
          "output_type": "stream",
          "text": [
            "shape=(3, 4), dimension=2, dtype=float64\n",
            "[[0. 0. 0. 0.]\n",
            " [0. 0. 0. 0.]\n",
            " [0. 0. 0. 0.]]\n",
            "\n"
          ]
        }
      ],
      "source": [
        "a = np.zeros((3,4))\n",
        "paf(a)"
      ]
    },
    {
      "cell_type": "code",
      "execution_count": 18,
      "metadata": {
        "colab": {
          "base_uri": "https://localhost:8080/"
        },
        "id": "yUWR68u9CmkP",
        "outputId": "b0d19866-4d12-4f72-dc6f-d415d8e32cfd"
      },
      "outputs": [
        {
          "name": "stdout",
          "output_type": "stream",
          "text": [
            "shape=(3, 4), dimension=2, dtype=int64\n",
            "[[0 0 0 0]\n",
            " [0 0 0 0]\n",
            " [0 0 0 0]]\n",
            "\n"
          ]
        }
      ],
      "source": [
        "a = np.zeros((3,4), dtype=int)\n",
        "paf(a)"
      ]
    },
    {
      "cell_type": "code",
      "execution_count": 19,
      "metadata": {
        "colab": {
          "base_uri": "https://localhost:8080/"
        },
        "id": "ImUcaE-3CtGx",
        "outputId": "b7cd2d41-a911-46d7-ceb0-b92a5706b08b"
      },
      "outputs": [
        {
          "name": "stdout",
          "output_type": "stream",
          "text": [
            "shape=(3, 4), dimension=2, dtype=int32\n",
            "[[0 0 0 0]\n",
            " [0 0 0 0]\n",
            " [0 0 0 0]]\n",
            "\n"
          ]
        }
      ],
      "source": [
        "a = np.zeros((3,4), dtype=np.int32)\n",
        "paf(a)"
      ]
    },
    {
      "cell_type": "markdown",
      "metadata": {
        "id": "GncXI3aBC0y-"
      },
      "source": [
        "설정할 수 있는 dtype(data type)은 python의 int, float 들과 numpy의 int, int0, int8 등등 가능하다."
      ]
    },
    {
      "cell_type": "code",
      "execution_count": 20,
      "metadata": {
        "id": "mVQmOoEJDIv5"
      },
      "outputs": [],
      "source": [
        "a = np.arange(12).reshape(3,4)\n",
        "b = np.zeros((3,4))"
      ]
    },
    {
      "cell_type": "markdown",
      "metadata": {
        "id": "boa41lDFDox4"
      },
      "source": [
        "기본적으로 대부분의 함수 호출에서 shape를 전달할 때는 (3,4)와 같이 튜플로 전달한다.\n",
        "\n",
        "그런데 reshape()의 경우 shape를 전달 할 때는 (3,4)와 같은 튜플이 아닌 그냥 3,4와 같이 값들로 전달한다.\n"
      ]
    },
    {
      "cell_type": "code",
      "execution_count": 21,
      "metadata": {
        "colab": {
          "base_uri": "https://localhost:8080/"
        },
        "id": "gnwS5_qVCf48",
        "outputId": "4dd0cf0a-7c16-43ab-8d6e-b61ee7665f47"
      },
      "outputs": [
        {
          "name": "stdout",
          "output_type": "stream",
          "text": [
            "shape=(3, 4), dimension=2, dtype=float64\n",
            "[[1. 1. 1. 1.]\n",
            " [1. 1. 1. 1.]\n",
            " [1. 1. 1. 1.]]\n",
            "\n"
          ]
        }
      ],
      "source": [
        "a = np.ones((3,4))\n",
        "paf(a)"
      ]
    },
    {
      "cell_type": "code",
      "execution_count": 22,
      "metadata": {
        "colab": {
          "base_uri": "https://localhost:8080/"
        },
        "id": "d5m8DnoaDv85",
        "outputId": "a0203231-673d-4342-8470-01ab2740acc0"
      },
      "outputs": [
        {
          "name": "stdout",
          "output_type": "stream",
          "text": [
            "shape=(3, 4), dimension=2, dtype=int64\n",
            "[[9 9 9 9]\n",
            " [9 9 9 9]\n",
            " [9 9 9 9]]\n",
            "\n"
          ]
        }
      ],
      "source": [
        "a = np.full((3,4), 9)\n",
        "paf(a)"
      ]
    },
    {
      "cell_type": "markdown",
      "metadata": {
        "id": "JrhLpMuzEQQ_"
      },
      "source": [
        "## numpy.xxx_like()"
      ]
    },
    {
      "cell_type": "code",
      "execution_count": 23,
      "metadata": {
        "colab": {
          "base_uri": "https://localhost:8080/"
        },
        "id": "K6FruRRpD9Yc",
        "outputId": "297f9b39-8613-4aae-fdbe-784feea7aecb"
      },
      "outputs": [
        {
          "name": "stdout",
          "output_type": "stream",
          "text": [
            "shape=(3, 4), dimension=2, dtype=int64\n",
            "[[0 0 0 0]\n",
            " [0 0 0 0]\n",
            " [0 0 0 0]]\n",
            "\n"
          ]
        }
      ],
      "source": [
        "a = np.arange(12).reshape(3,4)\n",
        "b = np.zeros_like(a)\n",
        "paf(b)"
      ]
    },
    {
      "cell_type": "code",
      "execution_count": 24,
      "metadata": {
        "colab": {
          "base_uri": "https://localhost:8080/"
        },
        "id": "kfm2m0vDCln3",
        "outputId": "fb95994f-4e40-4a89-f347-6275da72842c"
      },
      "outputs": [
        {
          "name": "stdout",
          "output_type": "stream",
          "text": [
            "shape=(3, 4), dimension=2, dtype=int64\n",
            "[[1 1 1 1]\n",
            " [1 1 1 1]\n",
            " [1 1 1 1]]\n",
            "\n"
          ]
        }
      ],
      "source": [
        "a = np.arange(12).reshape(3,4)\n",
        "b = np.ones_like(a)\n",
        "paf(b)"
      ]
    },
    {
      "cell_type": "code",
      "execution_count": 25,
      "metadata": {
        "colab": {
          "base_uri": "https://localhost:8080/"
        },
        "id": "oZoP80OoEB3H",
        "outputId": "5ca0a866-8942-43f8-a623-f75e5cbeac4c"
      },
      "outputs": [
        {
          "name": "stdout",
          "output_type": "stream",
          "text": [
            "shape=(3, 4), dimension=2, dtype=int64\n",
            "[[9 9 9 9]\n",
            " [9 9 9 9]\n",
            " [9 9 9 9]]\n",
            "\n"
          ]
        }
      ],
      "source": [
        "a = np.arange(12).reshape(3,4)\n",
        "b = np.full_like(a,9)\n",
        "paf(b)"
      ]
    },
    {
      "cell_type": "markdown",
      "metadata": {
        "id": "T1axs0akEND2"
      },
      "source": [
        "## numpy.eye()"
      ]
    },
    {
      "cell_type": "code",
      "execution_count": 26,
      "metadata": {
        "colab": {
          "base_uri": "https://localhost:8080/"
        },
        "id": "suuKjP_3EOS0",
        "outputId": "036d9265-a646-47e3-ca58-8bfd61530a38"
      },
      "outputs": [
        {
          "name": "stdout",
          "output_type": "stream",
          "text": [
            "shape=(3, 3), dimension=2, dtype=float64\n",
            "[[1. 0. 0.]\n",
            " [0. 1. 0.]\n",
            " [0. 0. 1.]]\n",
            "\n"
          ]
        }
      ],
      "source": [
        "a = np.eye(3)\n",
        "paf(a)"
      ]
    },
    {
      "cell_type": "code",
      "execution_count": 27,
      "metadata": {
        "colab": {
          "base_uri": "https://localhost:8080/"
        },
        "id": "xGiqbQhREZir",
        "outputId": "ba338bfe-a38d-4992-aed5-33502043cb08"
      },
      "outputs": [
        {
          "name": "stdout",
          "output_type": "stream",
          "text": [
            "shape=(5, 5), dimension=2, dtype=float64\n",
            "[[1. 0. 0. 0. 0.]\n",
            " [0. 1. 0. 0. 0.]\n",
            " [0. 0. 1. 0. 0.]\n",
            " [0. 0. 0. 1. 0.]\n",
            " [0. 0. 0. 0. 1.]]\n",
            "\n"
          ]
        }
      ],
      "source": [
        "a = np.eye(5)\n",
        "paf(a)"
      ]
    },
    {
      "cell_type": "markdown",
      "metadata": {
        "id": "Kh-fSiL6Efpe"
      },
      "source": [
        "# 랜덤값 생성"
      ]
    },
    {
      "cell_type": "markdown",
      "metadata": {
        "id": "iT7XKIBYEuZY"
      },
      "source": [
        "## random.rand() - 균일 분포\n",
        "\n",
        "0~1 사이의 랜덤 값"
      ]
    },
    {
      "cell_type": "code",
      "execution_count": 28,
      "metadata": {
        "colab": {
          "base_uri": "https://localhost:8080/"
        },
        "id": "3J-elhY0Eb7T",
        "outputId": "4d3621a3-b1c6-42a4-e897-73fea6b1cd9d"
      },
      "outputs": [
        {
          "name": "stdout",
          "output_type": "stream",
          "text": [
            "shape=(10,), dimension=1, dtype=float64\n",
            "[0.72005961 0.93001495 0.42845221 0.41004575 0.22624822 0.44752332\n",
            " 0.02286037 0.04913273 0.81638257 0.6759105 ]\n",
            "\n"
          ]
        }
      ],
      "source": [
        "a = np.random.rand(10)\n",
        "paf(a)"
      ]
    },
    {
      "cell_type": "markdown",
      "metadata": {
        "id": "jsfp8R25EqFY"
      },
      "source": [
        "0.0 ~ 1.0 사이의 실수 값을 생성한다."
      ]
    },
    {
      "cell_type": "code",
      "execution_count": 29,
      "metadata": {
        "colab": {
          "base_uri": "https://localhost:8080/",
          "height": 265
        },
        "id": "GIfv5Ym7Et40",
        "outputId": "ab17729f-0532-4768-f459-d41b0d7111d5"
      },
      "outputs": [
        {
          "data": {
            "image/png": "[encoded data removed]",
            "text/plain": [
              "<Figure size 432x288 with 1 Axes>"
            ]
          },
          "metadata": {
            "needs_background": "light"
          },
          "output_type": "display_data"
        }
      ],
      "source": [
        "a = np.random.rand(10000)\n",
        "\n",
        "import matplotlib.pyplot as plt\n",
        "plt.hist(a, bins=100)\n",
        "plt.show()"
      ]
    },
    {
      "cell_type": "code",
      "execution_count": 30,
      "metadata": {
        "colab": {
          "base_uri": "https://localhost:8080/"
        },
        "id": "E820WQMaJGTw",
        "outputId": "45b78e70-8406-4672-b482-590f8f12292d"
      },
      "outputs": [
        {
          "name": "stdout",
          "output_type": "stream",
          "text": [
            "shape=(3, 4), dimension=2, dtype=float64\n",
            "[[0.58535878 0.39828697 0.4260168  0.45584203]\n",
            " [0.09403228 0.834621   0.0427     0.7862339 ]\n",
            " [0.76918504 0.27728895 0.38072185 0.53157426]]\n",
            "\n"
          ]
        }
      ],
      "source": [
        "a = np.random.rand(3,4)\n",
        "paf(a)"
      ]
    },
    {
      "cell_type": "markdown",
      "metadata": {
        "id": "oBfO-XBBE53l"
      },
      "source": [
        "### Quiz. 1~6 사이의 주사위 값 10개 생성"
      ]
    },
    {
      "cell_type": "code",
      "execution_count": 31,
      "metadata": {
        "colab": {
          "base_uri": "https://localhost:8080/"
        },
        "id": "fdiJubJXE1F-",
        "outputId": "ec2b2f8d-640d-486e-ca6f-b8bd625744f7"
      },
      "outputs": [
        {
          "name": "stdout",
          "output_type": "stream",
          "text": [
            "shape=(12,), dimension=1, dtype=int64\n",
            "[5 6 1 4 1 5 5 1 5 4 3 2]\n",
            "\n"
          ]
        }
      ],
      "source": [
        "a = np.ceil(np.random.rand(12)*6).astype(int)\n",
        "paf(a)"
      ]
    },
    {
      "cell_type": "code",
      "execution_count": 32,
      "metadata": {
        "colab": {
          "base_uri": "https://localhost:8080/"
        },
        "id": "DT2ylLy5E-fd",
        "outputId": "11f7c527-fb83-4c17-8f05-e8ceba681df3"
      },
      "outputs": [
        {
          "name": "stdout",
          "output_type": "stream",
          "text": [
            "shape=(12,), dimension=1, dtype=int64\n",
            "[2 5 1 1 5 2 5 3 6 1 4 2]\n",
            "\n"
          ]
        }
      ],
      "source": [
        "a = np.random.randint(1, 7, size=12)\n",
        "paf(a)"
      ]
    },
    {
      "cell_type": "markdown",
      "metadata": {
        "id": "DJbBtK7QJU2h"
      },
      "source": [
        "random.rand(최소값, 최대값, size)"
      ]
    },
    {
      "cell_type": "code",
      "execution_count": 33,
      "metadata": {
        "colab": {
          "base_uri": "https://localhost:8080/"
        },
        "id": "OGiQejhoFR-5",
        "outputId": "8d3ec61b-4ccb-4e6c-ef16-1e9c7429d19c"
      },
      "outputs": [
        {
          "name": "stdout",
          "output_type": "stream",
          "text": [
            "shape=(3, 4), dimension=2, dtype=int64\n",
            "[[6 4 3 3]\n",
            " [5 3 1 6]\n",
            " [6 5 1 3]]\n",
            "\n"
          ]
        }
      ],
      "source": [
        "a = np.random.randint(1, 7, size=(3,4))\n",
        "paf(a)"
      ]
    },
    {
      "cell_type": "markdown",
      "metadata": {
        "id": "b_QIqU_7Faxa"
      },
      "source": [
        "## random.rand() - 자연분포\n",
        "평균 0, 분산 1의 자연분포의 랜덤 값"
      ]
    },
    {
      "cell_type": "code",
      "execution_count": 34,
      "metadata": {
        "colab": {
          "base_uri": "https://localhost:8080/"
        },
        "id": "diJkurqiF4vg",
        "outputId": "87449113-0822-4f23-bb98-44909966ae56"
      },
      "outputs": [
        {
          "name": "stdout",
          "output_type": "stream",
          "text": [
            "shape=(10,), dimension=1, dtype=float64\n",
            "[-0.09426955  0.77569138 -1.76227832  2.01413792 -0.76230425  0.48001561\n",
            "  0.5403314   1.35819643  1.80560887  0.83075327]\n",
            "\n"
          ]
        }
      ],
      "source": [
        "a = np.random.randn(10)\n",
        "paf(a)"
      ]
    },
    {
      "cell_type": "code",
      "execution_count": 35,
      "metadata": {
        "colab": {
          "base_uri": "https://localhost:8080/"
        },
        "id": "vg70uZejFR7X",
        "outputId": "91fd985e-c627-45ff-fd82-8828fe52a408"
      },
      "outputs": [
        {
          "name": "stdout",
          "output_type": "stream",
          "text": [
            "shape=(3, 4), dimension=2, dtype=float64\n",
            "[[-1.21813126 -0.52271655  1.5479345  -0.059219  ]\n",
            " [ 0.93396918  1.9138984  -0.26808795 -1.30544238]\n",
            " [-0.72224512 -0.35443464  0.19545958  0.23894324]]\n",
            "\n"
          ]
        }
      ],
      "source": [
        "a = np.random.randn(3,4)\n",
        "paf(a)"
      ]
    },
    {
      "cell_type": "code",
      "execution_count": 36,
      "metadata": {
        "colab": {
          "base_uri": "https://localhost:8080/"
        },
        "id": "jwnVqtgKutFH",
        "outputId": "e6f43e03-00a6-467f-de24-63ebe0cb297a"
      },
      "outputs": [
        {
          "name": "stdout",
          "output_type": "stream",
          "text": [
            "Looking in indexes: https://pypi.org/simple, https://us-python.pkg.dev/colab-wheels/public/simple/\n",
            "Requirement already satisfied: matplotlib in /usr/local/lib/python3.7/dist-packages (3.2.2)\n",
            "Requirement already satisfied: pyparsing!=2.0.4,!=2.1.2,!=2.1.6,>=2.0.1 in /usr/local/lib/python3.7/dist-packages (from matplotlib) (3.0.9)\n",
            "Requirement already satisfied: cycler>=0.10 in /usr/local/lib/python3.7/dist-packages (from matplotlib) (0.11.0)\n",
            "Requirement already satisfied: python-dateutil>=2.1 in /usr/local/lib/python3.7/dist-packages (from matplotlib) (2.8.2)\n",
            "Requirement already satisfied: kiwisolver>=1.0.1 in /usr/local/lib/python3.7/dist-packages (from matplotlib) (1.4.3)\n",
            "Requirement already satisfied: numpy>=1.11 in /usr/local/lib/python3.7/dist-packages (from matplotlib) (1.21.6)\n",
            "Requirement already satisfied: typing-extensions in /usr/local/lib/python3.7/dist-packages (from kiwisolver>=1.0.1->matplotlib) (4.1.1)\n",
            "Requirement already satisfied: six>=1.5 in /usr/local/lib/python3.7/dist-packages (from python-dateutil>=2.1->matplotlib) (1.15.0)\n"
          ]
        }
      ],
      "source": [
        "%pip install matplotlib"
      ]
    },
    {
      "cell_type": "code",
      "execution_count": 37,
      "metadata": {
        "colab": {
          "base_uri": "https://localhost:8080/",
          "height": 265
        },
        "id": "9cI-4ngzFR32",
        "outputId": "3f4fcdda-88ac-4780-ea2d-c01cef696aaf"
      },
      "outputs": [
        {
          "data": {
            "image/png": "[encoded data removed]",
            "text/plain": [
              "<Figure size 432x288 with 1 Axes>"
            ]
          },
          "metadata": {
            "needs_background": "light"
          },
          "output_type": "display_data"
        }
      ],
      "source": [
        "a = np.random.randn(1000)\n",
        "\n",
        "import matplotlib.pyplot as plt\n",
        "plt.hist(a, bins=100)\n",
        "plt.show()"
      ]
    },
    {
      "cell_type": "markdown",
      "metadata": {
        "id": "QImdRykDNwAw"
      },
      "source": [
        "## random.normal() - 특정 평균 분산의 자연분포"
      ]
    },
    {
      "cell_type": "code",
      "execution_count": 38,
      "metadata": {
        "colab": {
          "base_uri": "https://localhost:8080/",
          "height": 548
        },
        "id": "Jv5hb4eCKZEd",
        "outputId": "b1f8f3fe-75b0-4600-e10f-08b2acff1927"
      },
      "outputs": [
        {
          "name": "stdout",
          "output_type": "stream",
          "text": [
            "(30, 40)\n"
          ]
        },
        {
          "data": {
            "image/png": "[encoded data removed]",
            "text/plain": [
              "<Figure size 432x288 with 1 Axes>"
            ]
          },
          "metadata": {
            "needs_background": "light"
          },
          "output_type": "display_data"
        },
        {
          "name": "stdout",
          "output_type": "stream",
          "text": [
            "(30, 40)\n"
          ]
        },
        {
          "data": {
            "image/png": "[encoded data removed]",
            "text/plain": [
              "<Figure size 432x288 with 1 Axes>"
            ]
          },
          "metadata": {
            "needs_background": "light"
          },
          "output_type": "display_data"
        }
      ],
      "source": [
        "a = np.random.randn(30,40)\n",
        "print(a.shape)\n",
        "plt.hist(a.flatten(), bins=100)\n",
        "plt.show()\n",
        "\n",
        "a = np.random.normal(0, 1, size=(30,40))\n",
        "print(a.shape)\n",
        "plt.hist(a.flatten(), bins=100)\n",
        "plt.show()\n"
      ]
    },
    {
      "cell_type": "markdown",
      "metadata": {
        "id": "2ryRxbjGLtbf"
      },
      "source": [
        "randn()은 평균 0, 분산 1으로 고정된다. 파라매터는 전부 shape 값들\n",
        "\n",
        "normal()을 평균과 분산을 파라매터로 받는다. 그리고 shape는 size 파라매터로 tuple로 받는다."
      ]
    },
    {
      "cell_type": "markdown",
      "metadata": {
        "id": "_8fgxQ1VOfCk"
      },
      "source": [
        "# 슬라이싱\n",
        "\n",
        "![대체 텍스트](https://github.com/dhrim/cau_2022_summer/raw/master/material/library/images/slice1.png)\n",
        "image from http://taewan.kim/post/numpy_cheat_sheet/"
      ]
    },
    {
      "cell_type": "code",
      "execution_count": 39,
      "metadata": {
        "colab": {
          "base_uri": "https://localhost:8080/"
        },
        "id": "Dl_6GEc3K90G",
        "outputId": "c604e888-dbc7-45c8-8233-0e4a47f7d53c"
      },
      "outputs": [
        {
          "name": "stdout",
          "output_type": "stream",
          "text": [
            "[[ 0  1  2  3  4]\n",
            " [ 5  6  7  8  9]\n",
            " [10 11 12 13 14]\n",
            " [15 16 17 18 19]]\n",
            "\n",
            "a[1:3]\n",
            "[[ 5  6  7  8  9]\n",
            " [10 11 12 13 14]]\n",
            "\n"
          ]
        }
      ],
      "source": [
        "a = np.arange(20).reshape(4,5)\n",
        "pa(a)\n",
        "\n",
        "pa(a[1:3], \"a[1:3]\")"
      ]
    },
    {
      "cell_type": "code",
      "execution_count": 40,
      "metadata": {
        "colab": {
          "base_uri": "https://localhost:8080/"
        },
        "id": "vk8VEk6bMzI8",
        "outputId": "9afeec5a-82d3-4b74-930a-d86bee912200"
      },
      "outputs": [
        {
          "name": "stdout",
          "output_type": "stream",
          "text": [
            "[[ 0  1  2  3  4]\n",
            " [ 5  6  7  8  9]\n",
            " [10 11 12 13 14]\n",
            " [15 16 17 18 19]]\n",
            "\n",
            "a[:,1:3]\n",
            "[[ 1  2]\n",
            " [ 6  7]\n",
            " [11 12]\n",
            " [16 17]]\n",
            "\n"
          ]
        }
      ],
      "source": [
        "a = np.arange(20).reshape(4,5)\n",
        "pa(a)\n",
        "\n",
        "pa(a[:,1:3], \"a[:,1:3]\")"
      ]
    },
    {
      "cell_type": "code",
      "execution_count": 41,
      "metadata": {
        "colab": {
          "base_uri": "https://localhost:8080/"
        },
        "id": "EWeZAgqpO9SE",
        "outputId": "56ae0143-d9f1-452b-dd7c-ec04d59dc268"
      },
      "outputs": [
        {
          "name": "stdout",
          "output_type": "stream",
          "text": [
            "[[ 0  1  2  3  4]\n",
            " [ 5  6  7  8  9]\n",
            " [10 11 12 13 14]\n",
            " [15 16 17 18 19]]\n",
            "\n",
            "a[1:3,1:3]\n",
            "[[ 6  7]\n",
            " [11 12]]\n",
            "\n"
          ]
        }
      ],
      "source": [
        "a = np.arange(20).reshape(4,5)\n",
        "pa(a)\n",
        "\n",
        "pa(a[1:3,1:3], \"a[1:3,1:3]\")"
      ]
    },
    {
      "cell_type": "code",
      "execution_count": 42,
      "metadata": {
        "colab": {
          "base_uri": "https://localhost:8080/"
        },
        "id": "nIRL_3rgPAy1",
        "outputId": "a9e3f0dc-777c-4d6f-a74b-9810ae341499"
      },
      "outputs": [
        {
          "name": "stdout",
          "output_type": "stream",
          "text": [
            "[[ 0  1  2  3  4]\n",
            " [ 5  6  7  8  9]\n",
            " [10 11 12 13 14]\n",
            " [15 16 17 18 19]]\n",
            "\n",
            "a[1:3]\n",
            "[[ 5  6  7  8  9]\n",
            " [10 11 12 13 14]]\n",
            "\n",
            "a[1:3][1:3]\n",
            "[[10 11 12 13 14]]\n",
            "\n"
          ]
        }
      ],
      "source": [
        "a = np.arange(20).reshape(4,5)\n",
        "pa(a)\n",
        "\n",
        "pa(a[1:3], \"a[1:3]\")\n",
        "\n",
        "pa(a[1:3][1:3], \"a[1:3][1:3]\")"
      ]
    },
    {
      "cell_type": "markdown",
      "metadata": {
        "id": "voVDdqImPOcj"
      },
      "source": [
        "a[1:3][1:3] 하고 a[1:3,1:3]은 다르다.\n"
      ]
    },
    {
      "cell_type": "code",
      "execution_count": 43,
      "metadata": {
        "colab": {
          "base_uri": "https://localhost:8080/"
        },
        "id": "E4Hy0qrEPUNo",
        "outputId": "63630b42-ca58-4ed2-9612-fcb71cdb78da"
      },
      "outputs": [
        {
          "name": "stdout",
          "output_type": "stream",
          "text": [
            "[[ 0  1  2  3  4]\n",
            " [ 5  6  7  8  9]\n",
            " [10 11 12 13 14]\n",
            " [15 16 17 18 19]]\n",
            "\n",
            "a[1:3]\n",
            "[[ 5  6  7  8  9]\n",
            " [10 11 12 13 14]]\n",
            "\n",
            "b = a[1:3]\n",
            "[[ 5  6  7  8  9]\n",
            " [10 11 12 13 14]]\n",
            "\n",
            "b[1:3] = a[1:3][1:3]\n",
            "[[10 11 12 13 14]]\n",
            "\n",
            "a[1:31:3]\n",
            "[[5 6 7 8 9]]\n",
            "\n"
          ]
        }
      ],
      "source": [
        "a = np.arange(20).reshape(4,5)\n",
        "pa(a)\n",
        "\n",
        "pa(a[1:3], \"a[1:3]\")\n",
        "\n",
        "b = a[1:3]\n",
        "pa(b, \"b = a[1:3]\")\n",
        "\n",
        "pa(b[1:3], \"b[1:3] = a[1:3][1:3]\")\n",
        "\n",
        "pa(a[1:31:3], \"a[1:31:3]\")"
      ]
    },
    {
      "cell_type": "markdown",
      "metadata": {
        "id": "GXqee6WgP682"
      },
      "source": [
        "a[1:3][1:3]은   어레이 a[1:3]의  [1:3]이다. \n",
        "\n",
        "하지만 a[1:3,1:3]은 어레이 a의 행 1:3과 열 1:3 한번에 슬라이싱 한다."
      ]
    },
    {
      "cell_type": "markdown",
      "metadata": {
        "id": "zrOhfsJ5Q3Wx"
      },
      "source": [
        "# 값 설정"
      ]
    },
    {
      "cell_type": "code",
      "execution_count": 44,
      "metadata": {
        "colab": {
          "base_uri": "https://localhost:8080/"
        },
        "id": "CDEpsuSYQ_2G",
        "outputId": "ac1262f4-4d3c-41e8-9972-827265dcbddf"
      },
      "outputs": [
        {
          "name": "stdout",
          "output_type": "stream",
          "text": [
            "[[ 0  1  2  3]\n",
            " [ 4  5  6  7]\n",
            " [ 8  9 10 11]]\n",
            "\n",
            "a[1,2] = -1\n",
            "[[ 0  1  2  3]\n",
            " [ 4  5 -1  7]\n",
            " [ 8  9 10 11]]\n",
            "\n",
            "a[1:3] = -1\n",
            "[[ 0  1  2  3]\n",
            " [ 4 -1 -1  7]\n",
            " [ 8  9 10 11]]\n",
            "\n",
            "a[1] = -1\n",
            "[[ 0  1  2  3]\n",
            " [-1 -1 -1 -1]\n",
            " [ 8  9 10 11]]\n",
            "\n",
            "a[:1] = -1\n",
            "[[ 0  1  2  3]\n",
            " [-1 -1 -1 -1]\n",
            " [-1 -1 -1 -1]]\n",
            "\n"
          ]
        }
      ],
      "source": [
        "a = np.arange(12).reshape(3,4)\n",
        "pa(a)\n",
        "\n",
        "a[1,2] = -1\n",
        "pa(a, \"a[1,2] = -1\")\n",
        "\n",
        "a[1,1:3] = -1\n",
        "pa(a, \"a[1:3] = -1\")\n",
        "\n",
        "a[1] = -1\n",
        "pa(a, \"a[1] = -1\")\n",
        "\n",
        "a[1:] = -1\n",
        "pa(a, \"a[:1] = -1\")\n"
      ]
    },
    {
      "cell_type": "code",
      "execution_count": 45,
      "metadata": {
        "colab": {
          "base_uri": "https://localhost:8080/"
        },
        "id": "YP_MQoyBRe2Y",
        "outputId": "3d308088-1525-425c-de14-dd7f55e1dcd1"
      },
      "outputs": [
        {
          "name": "stdout",
          "output_type": "stream",
          "text": [
            "[[ 0  1  2  3]\n",
            " [ 4  5  6  7]\n",
            " [ 8  9 10 11]]\n",
            "\n",
            "pa[:,1] = -1\n",
            "[[ 0 -1  2  3]\n",
            " [ 4 -1  6  7]\n",
            " [ 8 -1 10 11]]\n",
            "\n",
            "pa[:,1:3] = -1\n",
            "[[ 0 -1 -1  3]\n",
            " [ 4 -1 -1  7]\n",
            " [ 8 -1 -1 11]]\n",
            "\n"
          ]
        }
      ],
      "source": [
        "a = np.arange(12).reshape(3,4)\n",
        "pa(a)\n",
        "\n",
        "a[:,1] = -1\n",
        "pa(a, \"pa[:,1] = -1\")\n",
        "\n",
        "a[:,1:3] = -1\n",
        "pa(a, \"pa[:,1:3] = -1\")\n"
      ]
    },
    {
      "cell_type": "code",
      "execution_count": 46,
      "metadata": {
        "colab": {
          "base_uri": "https://localhost:8080/"
        },
        "id": "e5Lqf5tyRskx",
        "outputId": "634304fd-1e7b-4f52-d919-a8f51d6b3236"
      },
      "outputs": [
        {
          "name": "stdout",
          "output_type": "stream",
          "text": [
            "[[ 0  1  2  3]\n",
            " [ 4  5  6  7]\n",
            " [ 8  9 10 11]]\n",
            "\n",
            "pa[1:2,1:3] = -1\n",
            "[[ 0  1  2  3]\n",
            " [ 4 -1 -1  7]\n",
            " [ 8  9 10 11]]\n",
            "\n"
          ]
        }
      ],
      "source": [
        "a = np.arange(12).reshape(3,4)\n",
        "pa(a)\n",
        "\n",
        "a[1:2,1:3] = -1\n",
        "pa(a, \"pa[1:2,1:3] = -1\")"
      ]
    },
    {
      "cell_type": "markdown",
      "metadata": {
        "id": "z9G3pzgITTVW"
      },
      "source": [
        "## Quiz. 다음의 어레이를 생성\n",
        "```\n",
        "[ 1. 1. 1. 1. 1.] \n",
        "[ 1. 0. 0. 0. 1.] \n",
        "[ 1. 0. 0. 0. 1.] \n",
        "[ 1. 0. 0. 0. 1.] \n",
        "[ 1. 1. 1. 1. 1.]\n",
        "```"
      ]
    },
    {
      "cell_type": "code",
      "execution_count": 47,
      "metadata": {
        "colab": {
          "base_uri": "https://localhost:8080/"
        },
        "id": "zv9zaDq_TakR",
        "outputId": "497fb2d3-3f42-427f-a765-6a6e32985687"
      },
      "outputs": [
        {
          "name": "stdout",
          "output_type": "stream",
          "text": [
            "[[1. 1. 1. 1. 1.]\n",
            " [1. 0. 0. 0. 1.]\n",
            " [1. 0. 0. 0. 1.]\n",
            " [1. 0. 0. 0. 1.]\n",
            " [1. 1. 1. 1. 1.]]\n",
            "\n"
          ]
        }
      ],
      "source": [
        "a = np.ones((5,5))\n",
        "a[1:4,1:4] = 0\n",
        "pa(a)"
      ]
    },
    {
      "cell_type": "markdown",
      "metadata": {
        "id": "dsDF9fsnTm6R"
      },
      "source": [
        "## Quiz. 짝수 행의 값들을 0으로 설정\n",
        "```\n",
        "[[ 0  1  2  3]\n",
        " [ 4  5  6  7]\n",
        " [ 8  9 10 11]\n",
        " [12 13 14 15]\n",
        " [16 17 18 19]]\n",
        "```"
      ]
    },
    {
      "cell_type": "code",
      "execution_count": 48,
      "metadata": {
        "colab": {
          "base_uri": "https://localhost:8080/"
        },
        "id": "_4Cw4tAxTi3q",
        "outputId": "4d2090c7-daa4-4d9b-9e0f-a76b71e1ef05"
      },
      "outputs": [
        {
          "name": "stdout",
          "output_type": "stream",
          "text": [
            "[[ 0  1  2  3]\n",
            " [ 4  5  6  7]\n",
            " [ 8  9 10 11]\n",
            " [12 13 14 15]\n",
            " [16 17 18 19]]\n",
            "\n",
            "[[ 0  0  0  0]\n",
            " [ 4  5  6  7]\n",
            " [ 0  0  0  0]\n",
            " [12 13 14 15]\n",
            " [ 0  0  0  0]]\n",
            "\n"
          ]
        }
      ],
      "source": [
        "a = np.arange(20).reshape(5,4)\n",
        "pa(a)\n",
        "\n",
        "a[::2] = 0\n",
        "pa(a)"
      ]
    },
    {
      "cell_type": "markdown",
      "metadata": {
        "id": "U1xP47_LT1MH"
      },
      "source": [
        "## Quiz. 다음 어레이를 생성\n",
        "```\n",
        "[0,1,0,1,0,1,0,1]\n",
        "```"
      ]
    },
    {
      "cell_type": "code",
      "execution_count": 49,
      "metadata": {
        "colab": {
          "base_uri": "https://localhost:8080/"
        },
        "id": "iQX1l2iXT6bG",
        "outputId": "1d6d080b-f0bd-4597-feff-7e4dc4c788a5"
      },
      "outputs": [
        {
          "name": "stdout",
          "output_type": "stream",
          "text": [
            "[0. 1. 0. 1. 0. 1. 0. 1.]\n",
            "\n"
          ]
        }
      ],
      "source": [
        "a = np.zeros(8)\n",
        "a[1::2] = 1\n",
        "pa(a)"
      ]
    },
    {
      "cell_type": "markdown",
      "metadata": {
        "id": "auu--lgKUD6R"
      },
      "source": [
        "# 어레이 간 연산"
      ]
    },
    {
      "cell_type": "code",
      "execution_count": 50,
      "metadata": {
        "colab": {
          "base_uri": "https://localhost:8080/"
        },
        "id": "fNt6HyQ4UGiR",
        "outputId": "620bbbd0-aca6-42c2-de33-69fe80ef1085"
      },
      "outputs": [
        {
          "name": "stdout",
          "output_type": "stream",
          "text": [
            "a\n",
            "[[ 0  0  0]\n",
            " [10 10 10]\n",
            " [20 20 20]\n",
            " [30 30 30]]\n",
            "\n",
            "b\n",
            "[[0 1 2]\n",
            " [0 1 2]\n",
            " [0 1 2]\n",
            " [0 1 2]]\n",
            "\n",
            "a+b\n",
            "[[ 0  1  2]\n",
            " [10 11 12]\n",
            " [20 21 22]\n",
            " [30 31 32]]\n",
            "\n"
          ]
        }
      ],
      "source": [
        "a = np.array([\n",
        "    [ 0,  0,  0],\n",
        "    [10, 10, 10],\n",
        "    [20, 20, 20],\n",
        "    [30, 30, 30]\n",
        "])\n",
        "b = np.array([\n",
        "    [ 0,  1,  2],\n",
        "    [ 0,  1,  2],\n",
        "    [ 0,  1,  2],\n",
        "    [ 0,  1,  2]    \n",
        "])\n",
        "\n",
        "pa(a, \"a\")\n",
        "pa(b, \"b\")\n",
        "\n",
        "pa(a+b, \"a+b\")"
      ]
    },
    {
      "cell_type": "code",
      "execution_count": 51,
      "metadata": {
        "colab": {
          "base_uri": "https://localhost:8080/"
        },
        "id": "TgqLNL9XUwnS",
        "outputId": "efeab924-4f5b-4452-a613-5d1283b0e016"
      },
      "outputs": [
        {
          "name": "stdout",
          "output_type": "stream",
          "text": [
            "a\n",
            "[[ 0  0  0]\n",
            " [10 10 10]\n",
            " [20 20 20]\n",
            " [30 30 30]]\n",
            "\n",
            "b\n",
            "[[0 1 2]\n",
            " [0 1 2]\n",
            " [0 1 2]\n",
            " [0 1 2]]\n",
            "\n",
            "a-b\n",
            "[[ 0 -1 -2]\n",
            " [10  9  8]\n",
            " [20 19 18]\n",
            " [30 29 28]]\n",
            "\n",
            "a*b\n",
            "[[ 0  0  0]\n",
            " [ 0 10 20]\n",
            " [ 0 20 40]\n",
            " [ 0 30 60]]\n",
            "\n"
          ]
        }
      ],
      "source": [
        "a = np.array([\n",
        "    [ 0,  0,  0],\n",
        "    [10, 10, 10],\n",
        "    [20, 20, 20],\n",
        "    [30, 30, 30]\n",
        "])\n",
        "b = np.array([\n",
        "    [ 0,  1,  2],\n",
        "    [ 0,  1,  2],\n",
        "    [ 0,  1,  2],\n",
        "    [ 0,  1,  2]    \n",
        "])\n",
        "\n",
        "pa(a, \"a\")\n",
        "pa(b, \"b\")\n",
        "\n",
        "pa(a-b, \"a-b\")\n",
        "\n",
        "pa(a*b, \"a*b\")\n"
      ]
    },
    {
      "cell_type": "code",
      "execution_count": 52,
      "metadata": {
        "colab": {
          "base_uri": "https://localhost:8080/"
        },
        "id": "guxXeMCsWre2",
        "outputId": "3df43541-3187-43ca-d48a-2662b5ff7e41"
      },
      "outputs": [
        {
          "name": "stdout",
          "output_type": "stream",
          "text": [
            "a\n",
            "[[ 0  0  0]\n",
            " [10 10 10]\n",
            " [20 20 20]\n",
            " [30 30 30]]\n",
            "\n",
            "b\n",
            "[[0 1 2]\n",
            " [0 1 2]\n",
            " [0 1 2]\n",
            " [0 1 2]]\n",
            "\n",
            "a/b\n",
            "[[nan  0.  0.]\n",
            " [inf 10.  5.]\n",
            " [inf 20. 10.]\n",
            " [inf 30. 15.]]\n",
            "\n"
          ]
        },
        {
          "name": "stderr",
          "output_type": "stream",
          "text": [
            "/usr/local/lib/python3.7/dist-packages/ipykernel_launcher.py:17: RuntimeWarning: divide by zero encountered in true_divide\n",
            "/usr/local/lib/python3.7/dist-packages/ipykernel_launcher.py:17: RuntimeWarning: invalid value encountered in true_divide\n"
          ]
        }
      ],
      "source": [
        "a = np.array([\n",
        "    [ 0,  0,  0],\n",
        "    [10, 10, 10],\n",
        "    [20, 20, 20],\n",
        "    [30, 30, 30]\n",
        "])\n",
        "b = np.array([\n",
        "    [ 0,  1,  2],\n",
        "    [ 0,  1,  2],\n",
        "    [ 0,  1,  2],\n",
        "    [ 0,  1,  2]    \n",
        "])\n",
        "\n",
        "pa(a, \"a\")\n",
        "pa(b, \"b\")\n",
        "\n",
        "pa(a/b, \"a/b\")\n"
      ]
    },
    {
      "cell_type": "markdown",
      "metadata": {
        "id": "Yx60xME7WwF9"
      },
      "source": [
        "0/0은 NaN, 10/0은 inf로 처리된다. 경고가 뜨면서."
      ]
    },
    {
      "cell_type": "code",
      "execution_count": 53,
      "metadata": {
        "colab": {
          "base_uri": "https://localhost:8080/"
        },
        "id": "l99b6UpJXKgf",
        "outputId": "9c2ba598-9228-4858-e487-8a92ee173e6d"
      },
      "outputs": [
        {
          "name": "stdout",
          "output_type": "stream",
          "text": [
            "a\n",
            "[[ 0  0  0]\n",
            " [10 10 10]\n",
            " [20 20 20]\n",
            " [30 30 30]]\n",
            "\n",
            "b\n",
            "[[ 1  2  3]\n",
            " [ 4  5  6]\n",
            " [ 7  8  9]\n",
            " [10 12 12]]\n",
            "\n",
            "a//b\n",
            "[[0 0 0]\n",
            " [2 2 1]\n",
            " [2 2 2]\n",
            " [3 2 2]]\n",
            "\n",
            "a%b\n",
            "[[0 0 0]\n",
            " [2 0 4]\n",
            " [6 4 2]\n",
            " [0 6 6]]\n",
            "\n"
          ]
        }
      ],
      "source": [
        "a = np.array([\n",
        "    [ 0,  0,  0],\n",
        "    [10, 10, 10],\n",
        "    [20, 20, 20],\n",
        "    [30, 30, 30]\n",
        "])\n",
        "b = np.array([\n",
        "    [ 1,  2,  3 ],\n",
        "    [ 4,  5,  6],\n",
        "    [ 7,  8,  9],\n",
        "    [ 10, 12, 12]    \n",
        "])\n",
        "\n",
        "pa(a, \"a\")\n",
        "pa(b, \"b\")\n",
        "\n",
        "pa(a//b, \"a//b\")\n",
        "\n",
        "pa(a%b, \"a%b\")\n"
      ]
    },
    {
      "cell_type": "code",
      "execution_count": 53,
      "metadata": {
        "id": "iW7-aTNif1bX"
      },
      "outputs": [],
      "source": []
    },
    {
      "cell_type": "markdown",
      "metadata": {
        "id": "WyP3Ch3MYDZ9"
      },
      "source": [
        "## Numpy 연산 함수들\n",
        "\n",
        "Numpy ufunc(universal function)들이라 칭한다.\n",
        "\n",
        "전체 리스트틑 https://numpy.org/doc/stable/reference/ufuncs.html (공식 홈)\n",
        "\n",
        "혹은 https://www.dataquest.io/blog/numpy-cheat-sheet/ (깔끔 정리된) 에서 볼 수 있다.\n",
        "\n",
        "<br>\n",
        "\n",
        "간략하면\n",
        "```\n",
        "- 사칙 연산\n",
        "  +, -, *, /, ...\n",
        "  add(), subtract(), multiply(), divide(), ...\n",
        "  matmul()\n",
        "  exp(), log(), sqrt(), ...\n",
        "  ...\n",
        "- 삼각 함수\n",
        "  sin(), cos(), ...\n",
        "- bit 연산\n",
        "  bitwise_and(), bit_wise_or(), ...\n",
        "- 비교 연산\n",
        "  >, <, >=, <=, ==, !=\n",
        "  greater(), greater_equal(), less(), less_equal(), equal(), not_equal()\n",
        "  maximum(), minimum(), ..\n",
        "- 실수 연산?\n",
        "  isfinite(), isnan(), abs(), round(), floor(), ceil(), ...\n",
        "- 통계\n",
        "  sum(), mean(), max(), min(), std(), ...\n",
        "```"
      ]
    },
    {
      "cell_type": "code",
      "execution_count": 54,
      "metadata": {
        "colab": {
          "base_uri": "https://localhost:8080/"
        },
        "id": "bx6zD0pST-e9",
        "outputId": "13505b36-bc86-4a4e-a563-218ae2464b25"
      },
      "outputs": [
        {
          "name": "stdout",
          "output_type": "stream",
          "text": [
            "[[False False False]\n",
            " [ True  True  True]\n",
            " [ True  True  True]\n",
            " [ True  True  True]]\n",
            "\n"
          ]
        }
      ],
      "source": [
        "a = np.array([\n",
        "    [ 0,  0,  0],\n",
        "    [10, 10, 10],\n",
        "    [20, 20, 20],\n",
        "    [30, 30, 30]\n",
        "])\n",
        "b = np.array([\n",
        "    [ 1,  2,  3 ],\n",
        "    [ 4,  5,  6],\n",
        "    [ 7,  8,  9],\n",
        "    [ 10, 12, 12]    \n",
        "])\n",
        "\n",
        "pa(a>b)"
      ]
    },
    {
      "cell_type": "code",
      "execution_count": 55,
      "metadata": {
        "colab": {
          "base_uri": "https://localhost:8080/"
        },
        "id": "-tRH_rl3T-bU",
        "outputId": "a8ef21cf-d342-4b60-8485-6f886f9b231b"
      },
      "outputs": [
        {
          "name": "stdout",
          "output_type": "stream",
          "text": [
            "np.maximum(a,b)\n",
            "[[ 1  2  3]\n",
            " [10 10 10]\n",
            " [20 20 20]\n",
            " [30 30 30]]\n",
            "\n",
            "np.max(a)\n",
            "30\n",
            "\n"
          ]
        }
      ],
      "source": [
        "a = np.array([\n",
        "    [ 0,  0,  0],\n",
        "    [10, 10, 10],\n",
        "    [20, 20, 20],\n",
        "    [30, 30, 30]\n",
        "])\n",
        "b = np.array([\n",
        "    [ 1,  2,  3 ],\n",
        "    [ 4,  5,  6],\n",
        "    [ 7,  8,  9],\n",
        "    [ 10, 12, 12]    \n",
        "])\n",
        "\n",
        "pa(np.maximum(a,b), \"np.maximum(a,b)\")\n",
        "\n",
        "pa(np.max(a), \"np.max(a)\")"
      ]
    },
    {
      "cell_type": "markdown",
      "metadata": {
        "id": "DbrKXvNudHdq"
      },
      "source": [
        "## 행렬 곱"
      ]
    },
    {
      "cell_type": "code",
      "execution_count": 56,
      "metadata": {
        "colab": {
          "base_uri": "https://localhost:8080/"
        },
        "id": "wcXGbYV9T-X8",
        "outputId": "6d552ac5-0a89-4028-fd94-a514e7985cc9"
      },
      "outputs": [
        {
          "name": "stdout",
          "output_type": "stream",
          "text": [
            "(2, 3)\n",
            "[[0 1 2]\n",
            " [3 4 5]]\n",
            "\n",
            "(3, 4)\n",
            "[[ 0  1  2  3]\n",
            " [ 4  5  6  7]\n",
            " [ 8  9 10 11]]\n",
            "\n",
            "(2, 4)\n",
            "np.matmul(a,b)\n",
            "[[20 23 26 29]\n",
            " [56 68 80 92]]\n",
            "\n",
            "[[20 23 26 29]\n",
            " [56 68 80 92]]\n",
            "\n"
          ]
        }
      ],
      "source": [
        "a = np.arange(6).reshape(2,3)\n",
        "b = np.arange(12).reshape(3,4)\n",
        "\n",
        "print(a.shape)\n",
        "pa(a)\n",
        "\n",
        "print(b.shape)\n",
        "pa(b)\n",
        "\n",
        "print(np.matmul(a,b).shape)\n",
        "pa(np.matmul(a,b), \"np.matmul(a,b)\")\n",
        "pa(np.dot(a,b))"
      ]
    },
    {
      "cell_type": "markdown",
      "metadata": {
        "id": "mQXyASLnT_Io"
      },
      "source": [
        "# 브로드캐스팅\n",
        "\n",
        "![대체 텍스트](https://raw.githubusercontent.com/dhrim/cau_2022_summer/master/material/library/images/broadcasting.png)\n",
        "image from http://taewan.kim/post/numpy_cheat_sheet/"
      ]
    },
    {
      "cell_type": "code",
      "execution_count": 57,
      "metadata": {
        "colab": {
          "base_uri": "https://localhost:8080/"
        },
        "id": "ZpwxnqJsT-pJ",
        "outputId": "88ef4e4a-72b9-498a-cd73-e5ea0a31dc4e"
      },
      "outputs": [
        {
          "name": "stdout",
          "output_type": "stream",
          "text": [
            "[[ 0  1  2]\n",
            " [10 11 12]\n",
            " [20 21 22]\n",
            " [30 31 32]]\n",
            "\n"
          ]
        }
      ],
      "source": [
        "a = np.array([\n",
        "    [ 0,  0,  0],\n",
        "    [10, 10, 10],\n",
        "    [20, 20, 20],\n",
        "    [30, 30, 30]\n",
        "])\n",
        "b = np.array([\n",
        "    [ 0,  1,  2], \n",
        "])\n",
        "\n",
        "pa(a+b)"
      ]
    },
    {
      "cell_type": "code",
      "execution_count": 58,
      "metadata": {
        "colab": {
          "base_uri": "https://localhost:8080/"
        },
        "id": "kal-zjxPT-UT",
        "outputId": "b51cb283-9e52-4f4f-9c26-fb555b58b873"
      },
      "outputs": [
        {
          "name": "stdout",
          "output_type": "stream",
          "text": [
            "[[ 1  1  1]\n",
            " [12 12 12]\n",
            " [23 23 23]\n",
            " [34 34 34]]\n",
            "\n"
          ]
        }
      ],
      "source": [
        "a = np.array([\n",
        "    [ 0,  0,  0],\n",
        "    [10, 10, 10],\n",
        "    [20, 20, 20],\n",
        "    [30, 30, 30] \n",
        "])\n",
        "b = np.array([\n",
        "    [ 1 ],\n",
        "    [ 2 ],\n",
        "    [ 3 ],\n",
        "    [ 4 ]    \n",
        "])\n",
        "\n",
        "pa(a+b)"
      ]
    },
    {
      "cell_type": "markdown",
      "metadata": {
        "id": "CJSbo71hdidp"
      },
      "source": [
        "# 필터링\n",
        "\n",
        "boolean 연산 결과는 필터링을 mask로 사용될 수 있다."
      ]
    },
    {
      "cell_type": "code",
      "execution_count": 59,
      "metadata": {
        "colab": {
          "base_uri": "https://localhost:8080/"
        },
        "id": "uerSzhv2T-PV",
        "outputId": "2be8440f-a64f-4537-b8e1-07064a39afee"
      },
      "outputs": [
        {
          "name": "stdout",
          "output_type": "stream",
          "text": [
            "[[ 0  1  2  3]\n",
            " [ 4  5  6  7]\n",
            " [ 8  9 10 11]]\n",
            "\n",
            "a%2==0\n",
            "[[ True False  True False]\n",
            " [ True False  True False]\n",
            " [ True False  True False]]\n",
            "\n"
          ]
        }
      ],
      "source": [
        "a = np.arange(12).reshape(3,4)\n",
        "pa(a)\n",
        "\n",
        "pa(a%2==0, \"a%2==0\")"
      ]
    },
    {
      "cell_type": "markdown",
      "metadata": {
        "id": "0_MsxYdaeG5Y"
      },
      "source": [
        "## Quiz. 2의 배수들의 합\n",
        "```\n",
        "[[ 0  1  2  3]\n",
        " [ 4  5  6  7]\n",
        " [ 8  9 10 11]]\n",
        " ```"
      ]
    },
    {
      "cell_type": "code",
      "execution_count": 60,
      "metadata": {
        "colab": {
          "base_uri": "https://localhost:8080/"
        },
        "id": "-kYgcvr2eL6C",
        "outputId": "721436a5-c009-4824-d71c-633a89bf5ac0"
      },
      "outputs": [
        {
          "name": "stdout",
          "output_type": "stream",
          "text": [
            "[[ 0  1  2  3]\n",
            " [ 4  5  6  7]\n",
            " [ 8  9 10 11]]\n",
            "\n",
            "mask\n",
            "[[ True False  True False]\n",
            " [ True False  True False]\n",
            " [ True False  True False]]\n",
            "\n",
            "a*mask\n",
            "[[ 0  0  2  0]\n",
            " [ 4  0  6  0]\n",
            " [ 8  0 10  0]]\n",
            "\n",
            "30\n"
          ]
        }
      ],
      "source": [
        "a = np.arange(12).reshape(3,4)\n",
        "pa(a)\n",
        "\n",
        "mask = a%2==0\n",
        "pa(mask, \"mask\")\n",
        "\n",
        "pa(a*mask, \"a*mask\")\n",
        "\n",
        "print(np.sum(a*mask))\n",
        "\n"
      ]
    },
    {
      "cell_type": "markdown",
      "metadata": {
        "id": "PNdzOocciQqZ"
      },
      "source": [
        "## Quiz. 5보다 큰 짝수들의 합\n",
        "```\n",
        "[[ 0  1  2  3]\n",
        " [ 4  5  6  7]\n",
        " [ 8  9 10 11]]\n",
        "```"
      ]
    },
    {
      "cell_type": "code",
      "execution_count": 61,
      "metadata": {
        "colab": {
          "base_uri": "https://localhost:8080/"
        },
        "id": "4GQpwbMCiaYD",
        "outputId": "558e22f6-1ae1-48e0-d3be-0677d747eb43"
      },
      "outputs": [
        {
          "name": "stdout",
          "output_type": "stream",
          "text": [
            "[[ 0  1  2  3]\n",
            " [ 4  5  6  7]\n",
            " [ 8  9 10 11]]\n",
            "\n",
            "mask\n",
            "[[False False False False]\n",
            " [False False  True False]\n",
            " [ True False  True False]]\n",
            "\n",
            "a*mask\n",
            "[[ 0  0  0  0]\n",
            " [ 0  0  6  0]\n",
            " [ 8  0 10  0]]\n",
            "\n",
            "24\n"
          ]
        }
      ],
      "source": [
        "a = np.arange(12).reshape(3,4)\n",
        "pa(a)\n",
        "\n",
        "mask = (a%2==0) & (a>5)\n",
        "pa(mask, \"mask\")\n",
        "\n",
        "pa(a*mask, \"a*mask\")\n",
        "\n",
        "print(np.sum(a*mask))\n",
        "\n"
      ]
    },
    {
      "cell_type": "markdown",
      "metadata": {
        "id": "n20SaoWwjEUC"
      },
      "source": [
        "## Quiz. 대각선 요소들의 평균\n",
        "```\n",
        "[[ 0  1  2  3  4]\n",
        " [ 5  6  7  8  9]\n",
        " [10 11 12 13 14]\n",
        " [15 16 17 18 19]\n",
        " [20 21 22 23 24]]\n",
        "```\n"
      ]
    },
    {
      "cell_type": "code",
      "execution_count": 62,
      "metadata": {
        "colab": {
          "base_uri": "https://localhost:8080/"
        },
        "id": "TQRVBeBbjLcj",
        "outputId": "55e5c11f-22b0-4695-ded2-79e84147c866"
      },
      "outputs": [
        {
          "name": "stdout",
          "output_type": "stream",
          "text": [
            "[[ 0  1  2  3  4]\n",
            " [ 5  6  7  8  9]\n",
            " [10 11 12 13 14]\n",
            " [15 16 17 18 19]\n",
            " [20 21 22 23 24]]\n",
            "\n",
            "mask\n",
            "[[1. 0. 0. 0. 0.]\n",
            " [0. 1. 0. 0. 0.]\n",
            " [0. 0. 1. 0. 0.]\n",
            " [0. 0. 0. 1. 0.]\n",
            " [0. 0. 0. 0. 1.]]\n",
            "\n",
            "a*mask\n",
            "[[ 0.  0.  0.  0.  0.]\n",
            " [ 0.  6.  0.  0.  0.]\n",
            " [ 0.  0. 12.  0.  0.]\n",
            " [ 0.  0.  0. 18.  0.]\n",
            " [ 0.  0.  0.  0. 24.]]\n",
            "\n",
            "2.4\n"
          ]
        }
      ],
      "source": [
        "a = np.arange(25).reshape(5,5)\n",
        "pa(a)\n",
        "\n",
        "mask = np.eye(5)\n",
        "pa(mask, \"mask\")\n",
        "\n",
        "pa(a*mask, \"a*mask\")\n",
        "\n",
        "print(np.mean(a*mask))\n",
        "\n"
      ]
    },
    {
      "cell_type": "markdown",
      "metadata": {
        "id": "54N9WRO6Q-ND"
      },
      "source": [
        "# 행, 열 추가 삭제\n",
        "\n",
        "list의 append(), insert(), pop() 등은 리스트에 요소를 추가하거나 삭제한다. 리스트 내의 값들을 변경한다. 그래서 호출 후의 반환 값은 없다.\n",
        "\n",
        "하지만 numpy는 어레이 내에 요소를 추가하거나 삭제하지 않고, 추가하거나 삭제한 새로운 어레이를 생성해서 이를 반환단다.\n",
        "\n"
      ]
    },
    {
      "cell_type": "code",
      "execution_count": 63,
      "metadata": {
        "colab": {
          "base_uri": "https://localhost:8080/"
        },
        "id": "oq4Ako5ySGvr",
        "outputId": "f115c611-dab1-48e3-d61c-53ea488ca39f"
      },
      "outputs": [
        {
          "name": "stdout",
          "output_type": "stream",
          "text": [
            "[0, 1, 2, 3, 4]\n",
            "[0, 1, 2, 3, 4, 9]\n",
            "[0, 9, 1, 2, 3, 4, 9]\n",
            "[0, 9, 2, 3, 4, 9]\n"
          ]
        }
      ],
      "source": [
        "l = [0,1,2,3,4]\n",
        "print(l)\n",
        "\n",
        "l.append(9)\n",
        "print(l)\n",
        "\n",
        "l.insert(1,9)\n",
        "print(l)\n",
        "\n",
        "l.pop(2)\n",
        "print(l)"
      ]
    },
    {
      "cell_type": "markdown",
      "metadata": {
        "id": "-Mt05KEahM7_"
      },
      "source": [
        "## 추가"
      ]
    },
    {
      "cell_type": "code",
      "execution_count": 64,
      "metadata": {
        "colab": {
          "base_uri": "https://localhost:8080/"
        },
        "id": "oDIm46xzggrw",
        "outputId": "6bcc5190-3498-4165-d532-1e8958d399a1"
      },
      "outputs": [
        {
          "name": "stdout",
          "output_type": "stream",
          "text": [
            "a\n",
            "[[ 0  1  2  3]\n",
            " [ 4  5  6  7]\n",
            " [ 8  9 10 11]]\n",
            "\n",
            "b\n",
            "[[ 0  1  2  3]\n",
            " [ 4  5  6  7]\n",
            " [ 8  9 10 11]\n",
            " [-1 -2 -3 -4]]\n",
            "\n"
          ]
        }
      ],
      "source": [
        "a = np.arange(12).reshape(3,4)\n",
        "pa(a, \"a\")\n",
        "\n",
        "b = np.append(a, [[-1,-2,-3,-4]], axis=0)\n",
        "pa(b, \"b\")\n"
      ]
    },
    {
      "cell_type": "markdown",
      "metadata": {
        "id": "dpaXN18rhOHf"
      },
      "source": [
        "## 특정 위치에 추가"
      ]
    },
    {
      "cell_type": "code",
      "execution_count": 65,
      "metadata": {
        "colab": {
          "base_uri": "https://localhost:8080/"
        },
        "id": "csRM_DH8P5PU",
        "outputId": "e839de7d-13ba-4fa6-f381-a9916c4bb1e1"
      },
      "outputs": [
        {
          "name": "stdout",
          "output_type": "stream",
          "text": [
            "a\n",
            "[[ 0  1  2  3]\n",
            " [ 4  5  6  7]\n",
            " [ 8  9 10 11]]\n",
            "\n",
            "b\n",
            "[[ 0  1  2  3]\n",
            " [-1 -2 -3 -4]\n",
            " [ 4  5  6  7]\n",
            " [ 8  9 10 11]]\n",
            "\n"
          ]
        }
      ],
      "source": [
        "a = np.arange(12).reshape(3,4)\n",
        "pa(a, \"a\")\n",
        "\n",
        "b = np.insert(a, 1, [[-1,-2,-3,-4]], axis=0)\n",
        "pa(b, \"b\")\n"
      ]
    },
    {
      "cell_type": "markdown",
      "metadata": {
        "id": "BrPqGifnhRX2"
      },
      "source": [
        "## 행 삭제"
      ]
    },
    {
      "cell_type": "code",
      "execution_count": 66,
      "metadata": {
        "colab": {
          "base_uri": "https://localhost:8080/"
        },
        "id": "mC8TQP3WSePp",
        "outputId": "0b5c5789-1011-4f67-96ce-ce1e51539a5e"
      },
      "outputs": [
        {
          "name": "stdout",
          "output_type": "stream",
          "text": [
            "a\n",
            "[[ 0  1  2  3]\n",
            " [ 4  5  6  7]\n",
            " [ 8  9 10 11]]\n",
            "\n",
            "b\n",
            "[[ 0  1  2  3]\n",
            " [ 8  9 10 11]]\n",
            "\n"
          ]
        }
      ],
      "source": [
        "a = np.arange(12).reshape(3,4)\n",
        "pa(a, \"a\")\n",
        "\n",
        "b = np.delete(a, 1, axis=0)\n",
        "pa(b, \"b\")\n"
      ]
    },
    {
      "cell_type": "markdown",
      "metadata": {
        "id": "FbIny223hS4b"
      },
      "source": [
        "## 열 삭제"
      ]
    },
    {
      "cell_type": "code",
      "execution_count": 67,
      "metadata": {
        "colab": {
          "base_uri": "https://localhost:8080/"
        },
        "id": "Zj9lrI5kSeLy",
        "outputId": "2773b369-a3a1-428a-9ead-44bba986008d"
      },
      "outputs": [
        {
          "name": "stdout",
          "output_type": "stream",
          "text": [
            "a\n",
            "[[ 0  1  2  3]\n",
            " [ 4  5  6  7]\n",
            " [ 8  9 10 11]]\n",
            "\n",
            "b\n",
            "[[ 0  2  3]\n",
            " [ 4  6  7]\n",
            " [ 8 10 11]]\n",
            "\n"
          ]
        }
      ],
      "source": [
        "a = np.arange(12).reshape(3,4)\n",
        "pa(a, \"a\")\n",
        "\n",
        "b = np.delete(a, 1, axis=1)\n",
        "pa(b, \"b\")\n"
      ]
    },
    {
      "cell_type": "code",
      "execution_count": 67,
      "metadata": {
        "id": "kNBBtAzHjx2R"
      },
      "outputs": [],
      "source": []
    },
    {
      "cell_type": "code",
      "execution_count": 67,
      "metadata": {
        "id": "FNTVZ-Kdjxzp"
      },
      "outputs": [],
      "source": []
    },
    {
      "cell_type": "code",
      "execution_count": 67,
      "metadata": {
        "id": "4ULBhPgvjxxA"
      },
      "outputs": [],
      "source": []
    },
    {
      "cell_type": "code",
      "execution_count": 67,
      "metadata": {
        "id": "fPW2o5abjxtV"
      },
      "outputs": [],
      "source": []
    },
    {
      "cell_type": "markdown",
      "metadata": {
        "id": "Fz7qyvP7ju_r"
      },
      "source": [
        "# 차원 확대/축소"
      ]
    },
    {
      "cell_type": "code",
      "execution_count": 68,
      "metadata": {
        "colab": {
          "base_uri": "https://localhost:8080/"
        },
        "id": "HJajFDsyj99U",
        "outputId": "c2c71d3b-b473-4e1a-db5a-3c91083a2c21"
      },
      "outputs": [
        {
          "name": "stdout",
          "output_type": "stream",
          "text": [
            "shape=(3, 4), dimension=2, dtype=int64\n",
            "[[ 0  1  2  3]\n",
            " [ 4  5  6  7]\n",
            " [ 8  9 10 11]]\n",
            "\n",
            "shape=(3, 4, 1), dimension=3, dtype=int64\n",
            "[[[ 0]\n",
            "  [ 1]\n",
            "  [ 2]\n",
            "  [ 3]]\n",
            "\n",
            " [[ 4]\n",
            "  [ 5]\n",
            "  [ 6]\n",
            "  [ 7]]\n",
            "\n",
            " [[ 8]\n",
            "  [ 9]\n",
            "  [10]\n",
            "  [11]]]\n",
            "\n"
          ]
        }
      ],
      "source": [
        "a = np.arange(12).reshape(3,4)\n",
        "\n",
        "paf(a)\n",
        "\n",
        "paf(a.reshape(3,4,1))"
      ]
    },
    {
      "cell_type": "code",
      "execution_count": 69,
      "metadata": {
        "colab": {
          "base_uri": "https://localhost:8080/"
        },
        "id": "1z6155jLlQ9i",
        "outputId": "8a222b6c-124b-4b20-c0e1-af7b8bbafb53"
      },
      "outputs": [
        {
          "name": "stdout",
          "output_type": "stream",
          "text": [
            "[[[ 0  1  2  3]]\n",
            "\n",
            " [[ 4  5  6  7]]\n",
            "\n",
            " [[ 8  9 10 11]]]\n"
          ]
        }
      ],
      "source": [
        "print(a.reshape(3,1,4))"
      ]
    },
    {
      "cell_type": "code",
      "execution_count": 70,
      "metadata": {
        "colab": {
          "base_uri": "https://localhost:8080/"
        },
        "id": "O-ZhKoWflSkh",
        "outputId": "ad120059-cfcd-4448-8f7e-505474292f98"
      },
      "outputs": [
        {
          "name": "stdout",
          "output_type": "stream",
          "text": [
            "[[[ 0  1  2  3]\n",
            "  [ 4  5  6  7]\n",
            "  [ 8  9 10 11]]]\n"
          ]
        }
      ],
      "source": [
        "print(a.reshape(1,3,4))"
      ]
    },
    {
      "cell_type": "markdown",
      "metadata": {
        "id": "Cx9AkVmall2s"
      },
      "source": [
        "## expand_dims()"
      ]
    },
    {
      "cell_type": "code",
      "execution_count": 71,
      "metadata": {
        "colab": {
          "base_uri": "https://localhost:8080/"
        },
        "id": "Bn1CAkY0lU8S",
        "outputId": "f16803f6-4522-434c-e32d-5cf726f6af4b"
      },
      "outputs": [
        {
          "name": "stdout",
          "output_type": "stream",
          "text": [
            "[[ 0  1  2  3]\n",
            " [ 4  5  6  7]\n",
            " [ 8  9 10 11]]\n",
            "\n",
            "(1, 3, 4)\n"
          ]
        }
      ],
      "source": [
        "a = np.arange(12).reshape(3,4)\n",
        "pa(a)\n",
        "\n",
        "b = np.expand_dims(a, axis=0)\n",
        "print(b.shape)\n"
      ]
    },
    {
      "cell_type": "code",
      "execution_count": 72,
      "metadata": {
        "colab": {
          "base_uri": "https://localhost:8080/"
        },
        "id": "P7emJVqplcAY",
        "outputId": "f49311e8-3e97-4818-d5ae-e26d5b7bf1a3"
      },
      "outputs": [
        {
          "name": "stdout",
          "output_type": "stream",
          "text": [
            "[[ 0  1  2  3]\n",
            " [ 4  5  6  7]\n",
            " [ 8  9 10 11]]\n",
            "\n",
            "(3, 1, 4)\n"
          ]
        }
      ],
      "source": [
        "a = np.arange(12).reshape(3,4)\n",
        "pa(a)\n",
        "\n",
        "b = np.expand_dims(a, axis=1)\n",
        "print(b.shape)\n"
      ]
    },
    {
      "cell_type": "code",
      "execution_count": 73,
      "metadata": {
        "colab": {
          "base_uri": "https://localhost:8080/"
        },
        "id": "1jGp51u1lhGp",
        "outputId": "586f5fc9-ed09-497b-9f9a-5d57138ceec2"
      },
      "outputs": [
        {
          "name": "stdout",
          "output_type": "stream",
          "text": [
            "[[ 0  1  2  3]\n",
            " [ 4  5  6  7]\n",
            " [ 8  9 10 11]]\n",
            "\n",
            "(3, 4, 1)\n"
          ]
        }
      ],
      "source": [
        "a = np.arange(12).reshape(3,4)\n",
        "pa(a)\n",
        "\n",
        "b = np.expand_dims(a, axis=2)\n",
        "print(b.shape)\n"
      ]
    },
    {
      "cell_type": "code",
      "execution_count": 74,
      "metadata": {
        "colab": {
          "base_uri": "https://localhost:8080/"
        },
        "id": "ErV2TGXCli_G",
        "outputId": "b450e957-fe84-4a21-a940-23a490cbc0c7"
      },
      "outputs": [
        {
          "name": "stdout",
          "output_type": "stream",
          "text": [
            "[[ 0  1  2  3]\n",
            " [ 4  5  6  7]\n",
            " [ 8  9 10 11]]\n",
            "\n",
            "(3, 4, 1)\n"
          ]
        }
      ],
      "source": [
        "a = np.arange(12).reshape(3,4)\n",
        "pa(a)\n",
        "\n",
        "b = np.expand_dims(a, axis=-1)\n",
        "print(b.shape)\n"
      ]
    },
    {
      "cell_type": "markdown",
      "metadata": {
        "id": "Hv5P3iBMltyr"
      },
      "source": [
        "# squeeze()"
      ]
    },
    {
      "cell_type": "code",
      "execution_count": 75,
      "metadata": {
        "colab": {
          "base_uri": "https://localhost:8080/"
        },
        "id": "EjDq6YA9l0KM",
        "outputId": "1e71cdb9-913b-4181-f7a7-a45f440701a2"
      },
      "outputs": [
        {
          "name": "stdout",
          "output_type": "stream",
          "text": [
            "(3, 4, 1)\n",
            "(3, 4)\n"
          ]
        }
      ],
      "source": [
        "a = np.arange(12).reshape(3,4,1)\n",
        "print(a.shape)\n",
        "\n",
        "print(a.reshape(3,4).shape)\n"
      ]
    },
    {
      "cell_type": "code",
      "execution_count": 76,
      "metadata": {
        "colab": {
          "base_uri": "https://localhost:8080/"
        },
        "id": "PLmpGImmlwC1",
        "outputId": "6735930f-2386-429d-ded0-67ab931c2eec"
      },
      "outputs": [
        {
          "name": "stdout",
          "output_type": "stream",
          "text": [
            "(3, 4, 1)\n",
            "(3, 4)\n"
          ]
        }
      ],
      "source": [
        "a = np.arange(12).reshape(3,4,1)\n",
        "print(a.shape)\n",
        "\n",
        "print(np.squeeze(a).shape)\n"
      ]
    },
    {
      "cell_type": "code",
      "execution_count": 77,
      "metadata": {
        "colab": {
          "base_uri": "https://localhost:8080/"
        },
        "id": "e2Odx4pxl8nj",
        "outputId": "727bd00c-afb9-4f0f-fb2d-a4da4f7ce456"
      },
      "outputs": [
        {
          "name": "stdout",
          "output_type": "stream",
          "text": [
            "(3, 1, 4)\n",
            "(3, 4)\n"
          ]
        }
      ],
      "source": [
        "a = np.arange(12).reshape(3,1,4)\n",
        "print(a.shape)\n",
        "\n",
        "print(np.squeeze(a).shape)\n"
      ]
    },
    {
      "cell_type": "markdown",
      "metadata": {
        "id": "s41dX5mSmCwB"
      },
      "source": [
        "# 전치 행열"
      ]
    },
    {
      "cell_type": "code",
      "execution_count": 78,
      "metadata": {
        "colab": {
          "base_uri": "https://localhost:8080/"
        },
        "id": "1VXfrChHmFNS",
        "outputId": "8f0dd394-fc75-4f1a-9287-7782c22fe0a0"
      },
      "outputs": [
        {
          "name": "stdout",
          "output_type": "stream",
          "text": [
            "a\n",
            "[[ 0  1  2  3]\n",
            " [ 4  5  6  7]\n",
            " [ 8  9 10 11]]\n",
            "\n",
            "a.T\n",
            "[[ 0  4  8]\n",
            " [ 1  5  9]\n",
            " [ 2  6 10]\n",
            " [ 3  7 11]]\n",
            "\n"
          ]
        }
      ],
      "source": [
        "a = np.arange(12).reshape(3,4)\n",
        "pa(a, \"a\")\n",
        "\n",
        "pa(a.T, \"a.T\")"
      ]
    },
    {
      "cell_type": "markdown",
      "metadata": {
        "id": "bEXFgsi8mNXD"
      },
      "source": [
        "# 축 기반 연산"
      ]
    },
    {
      "cell_type": "markdown",
      "metadata": {
        "id": "yKqhAZwVmUX0"
      },
      "source": [
        "## sum()\n",
        "\n",
        "한 축으로 더하면 그 축은 사라진다.\n",
        "\n",
        "사자질 축 index를 axis의 값으로 설정한다."
      ]
    },
    {
      "cell_type": "code",
      "execution_count": 79,
      "metadata": {
        "colab": {
          "base_uri": "https://localhost:8080/"
        },
        "id": "qE_CPN9Bmnq7",
        "outputId": "d654ccde-aae2-461a-fb50-b51915256c0e"
      },
      "outputs": [
        {
          "name": "stdout",
          "output_type": "stream",
          "text": [
            "[[1. 1. 1. 1.]\n",
            " [1. 1. 1. 1.]\n",
            " [1. 1. 1. 1.]]\n",
            "\n",
            "12.0\n"
          ]
        }
      ],
      "source": [
        "a = np.ones((3,4))\n",
        "pa(a)\n",
        "\n",
        "print(np.sum(a))"
      ]
    },
    {
      "cell_type": "code",
      "execution_count": 80,
      "metadata": {
        "colab": {
          "base_uri": "https://localhost:8080/"
        },
        "id": "r4td5iycmZJn",
        "outputId": "27e80ba1-021e-4e2a-f4a3-aa7c5ed615fd"
      },
      "outputs": [
        {
          "name": "stdout",
          "output_type": "stream",
          "text": [
            "[[1. 1. 1. 1.]\n",
            " [1. 1. 1. 1.]\n",
            " [1. 1. 1. 1.]]\n",
            "\n",
            "shape=(4,), dimension=1, dtype=float64\n",
            "[3. 3. 3. 3.]\n",
            "\n",
            "shape=(3,), dimension=1, dtype=float64\n",
            "[4. 4. 4.]\n",
            "\n"
          ]
        }
      ],
      "source": [
        "a = np.ones((3,4))\n",
        "pa(a) # shape (3,4)\n",
        "\n",
        "paf(np.sum(a, axis=0)) # shape의 (3,4) 3을 없애고 싶다. 3은 index 0. 이 index를 axis 값으로\n",
        "\n",
        "paf(np.sum(a, axis=1)) # shape의 (3,4) 4을 없애고 싶다. 4는 index 1. 이 index를 axis 값으로\n"
      ]
    },
    {
      "cell_type": "code",
      "execution_count": 81,
      "metadata": {
        "colab": {
          "base_uri": "https://localhost:8080/"
        },
        "id": "MVGTP5mKnXdS",
        "outputId": "8d06af48-d3a0-4c20-8049-21e5c36be088"
      },
      "outputs": [
        {
          "name": "stdout",
          "output_type": "stream",
          "text": [
            "(3, 4, 2)\n",
            "\n",
            "shape=(4, 2), dimension=2, dtype=float64\n",
            "[[3. 3.]\n",
            " [3. 3.]\n",
            " [3. 3.]\n",
            " [3. 3.]]\n",
            "\n",
            "shape=(3, 2), dimension=2, dtype=float64\n",
            "[[4. 4.]\n",
            " [4. 4.]\n",
            " [4. 4.]]\n",
            "\n",
            "shape=(3, 4), dimension=2, dtype=float64\n",
            "[[2. 2. 2. 2.]\n",
            " [2. 2. 2. 2.]\n",
            " [2. 2. 2. 2.]]\n",
            "\n"
          ]
        }
      ],
      "source": [
        "a = np.ones((3,4,2))\n",
        "pa(a.shape) # shape (3,4,2)\n",
        "\n",
        "paf(np.sum(a, axis=0)) # 원 shape (3,4,2)에서 index 0 축이 제거되어 (  4,2)가 된다.\n",
        "\n",
        "paf(np.sum(a, axis=1)) # 원 shape (3,4,2)에서 index 1 축이 제거되어 (3  ,2)가 된다.\n",
        "\n",
        "paf(np.sum(a, axis=2)) # 원 shape (3,4,2)에서 index 2 축이 제거되어 (3,4  )가 된다."
      ]
    },
    {
      "cell_type": "markdown",
      "metadata": {
        "id": "bfnXv0GdoFrH"
      },
      "source": [
        "## mean()\n",
        "\n",
        "axis 설정 방법은 sum()과 동일하다. "
      ]
    },
    {
      "cell_type": "code",
      "execution_count": 82,
      "metadata": {
        "colab": {
          "base_uri": "https://localhost:8080/"
        },
        "id": "QKJ6dVqZoRr9",
        "outputId": "83284b35-0a72-4c47-ca87-b7d04a058edc"
      },
      "outputs": [
        {
          "name": "stdout",
          "output_type": "stream",
          "text": [
            "(3, 4, 2)\n",
            "\n",
            "shape=(4, 2), dimension=2, dtype=float64\n",
            "[[ 8.  9.]\n",
            " [10. 11.]\n",
            " [12. 13.]\n",
            " [14. 15.]]\n",
            "\n",
            "shape=(3, 2), dimension=2, dtype=float64\n",
            "[[ 3.  4.]\n",
            " [11. 12.]\n",
            " [19. 20.]]\n",
            "\n",
            "shape=(3, 4), dimension=2, dtype=float64\n",
            "[[ 0.5  2.5  4.5  6.5]\n",
            " [ 8.5 10.5 12.5 14.5]\n",
            " [16.5 18.5 20.5 22.5]]\n",
            "\n"
          ]
        }
      ],
      "source": [
        "a = np.arange(24).reshape(3,4,2)\n",
        "pa(a.shape) # shape (3,4,2)\n",
        "\n",
        "paf(np.mean(a, axis=0)) # 원 shape (3,4,2)에서 index 0 축이 제거되어 (  4,2)가 된다.\n",
        "\n",
        "paf(np.mean(a, axis=1)) # 원 shape (3,4,2)에서 index 1 축이 제거되어 (3  ,2)가 된다.\n",
        "\n",
        "paf(np.mean(a, axis=2)) # 원 shape (3,4,2)에서 index 2 축이 제거되어 (3,4  )가 된다."
      ]
    },
    {
      "cell_type": "markdown",
      "metadata": {
        "id": "9lonxvqvpBiW"
      },
      "source": [
        "# argmax(), argsort()"
      ]
    },
    {
      "cell_type": "markdown",
      "metadata": {
        "id": "pZw2Mx34qfs_"
      },
      "source": [
        "## argsort()"
      ]
    },
    {
      "cell_type": "markdown",
      "metadata": {
        "id": "1HdwBL9WpG4r"
      },
      "source": [
        "## Quiz. 다음 성적에 대한 순위로 이름을 출력\n",
        "```\n",
        "l = [ 3, 5, 2, 5, 9 ]\n",
        "names = [ \"tom\", \"jerry\", \"brute\", \"bob\", \"hank\" ]\n",
        "```"
      ]
    },
    {
      "cell_type": "code",
      "execution_count": 83,
      "metadata": {
        "colab": {
          "base_uri": "https://localhost:8080/"
        },
        "id": "1inFe9xrpQGT",
        "outputId": "fd59bc8e-b589-4478-9a3b-2c0391aa615c"
      },
      "outputs": [
        {
          "name": "stdout",
          "output_type": "stream",
          "text": [
            "org : [3, 5, 2, 5, 9]\n",
            "sorted scores : [9, 5, 5, 3, 2]\n",
            "[4, 1, 3, 0, 2]\n",
            "hank\n",
            "jerry\n",
            "bob\n",
            "tom\n",
            "brute\n"
          ]
        }
      ],
      "source": [
        "scores = [ 3, 5, 2, 5, 9 ]\n",
        "names = [ \"tom\", \"jerry\", \"brute\", \"bob\", \"hank\" ]\n",
        "\n",
        "org = [ i for i in scores ]\n",
        "print(\"org :\", org)\n",
        "\n",
        "scores.sort(reverse=True)\n",
        "print(\"sorted scores :\", scores)\n",
        "\n",
        "indexes = []\n",
        "for i in range(len(scores)):\n",
        "  # print(scores[i])\n",
        "  for j in range(len(org)):\n",
        "    if org[j] == scores[i]:\n",
        "      indexes.append(j)\n",
        "      org[j] = -1\n",
        "      break\n",
        "  # print(org)\n",
        "\n",
        "print(indexes)\n",
        "\n",
        "for i in indexes:\n",
        "  print(names[i])\n"
      ]
    },
    {
      "cell_type": "markdown",
      "metadata": {
        "id": "EifOzQmLpUJM"
      },
      "source": [
        "소팅된 scores 자체가 필요한 거이 아니라\n",
        "```\n",
        "sorted_scores : [9, 5, 5, 3, 2]\n",
        "```\n",
        "\n",
        "소팅된 scores 9, 5, 5, 3, 2의 원 자리 index가 필요하다.\n",
        "```\n",
        "sorted_index : [4, 1, 3, 0, 2]\n",
        "```\n",
        "\n",
        "argsort()가 이러한 연산을 한다.\n"
      ]
    },
    {
      "cell_type": "code",
      "execution_count": 84,
      "metadata": {
        "colab": {
          "base_uri": "https://localhost:8080/"
        },
        "id": "nn2Iqr1_qCwD",
        "outputId": "f3a4e8a4-cc08-4389-bfde-9883a41a6378"
      },
      "outputs": [
        {
          "name": "stdout",
          "output_type": "stream",
          "text": [
            "sorted_indexes= [4 3 1 0 2]\n"
          ]
        }
      ],
      "source": [
        "scores = [ 3, 5, 2, 5, 9 ]\n",
        "names = [ \"tom\", \"jerry\", \"brute\", \"bob\", \"hank\" ]\n",
        "\n",
        "a = np.array(scores)\n",
        "sorted_indexes = np.argsort(a)[::-1]\n",
        "\n",
        "print(\"sorted_indexes=\",sorted_indexes)"
      ]
    },
    {
      "cell_type": "markdown",
      "metadata": {
        "id": "NUnCNUA7qh80"
      },
      "source": [
        "## argmax()"
      ]
    },
    {
      "cell_type": "code",
      "execution_count": 85,
      "metadata": {
        "colab": {
          "base_uri": "https://localhost:8080/"
        },
        "id": "WvYSdrYcqlKv",
        "outputId": "d06ce8b4-0433-4470-f91e-c07125d05d77"
      },
      "outputs": [
        {
          "name": "stdout",
          "output_type": "stream",
          "text": [
            "a\n",
            "[[82 87 16 98]\n",
            " [23 58 28 93]\n",
            " [92 42 46  6]]\n",
            "\n",
            "np.argmax(a, axis=1)\n",
            "[3 3 0]\n",
            "\n",
            "np.argmax(a, axis=0)\n",
            "[2 0 2 0]\n",
            "\n"
          ]
        }
      ],
      "source": [
        "np.random.seed(seed=31)\n",
        "a = np.random.randint(100, size=12).reshape(3,4)\n",
        "pa(a, \"a\")\n",
        "\n",
        "max_index = np.argmax(a, axis=1)\n",
        "pa(max_index, \"np.argmax(a, axis=1)\")\n",
        "\n",
        "max_index = np.argmax(a, axis=0)\n",
        "pa(max_index, \"np.argmax(a, axis=0)\")\n"
      ]
    },
    {
      "cell_type": "markdown",
      "metadata": {
        "id": "kik6Ows3qyZa"
      },
      "source": [
        "각 데이터에서 가장 큰 것의 column index를 구한다."
      ]
    },
    {
      "cell_type": "markdown",
      "metadata": {
        "id": "6525CXGZSfAA"
      },
      "source": [
        "# 어레이 합치기"
      ]
    },
    {
      "cell_type": "markdown",
      "metadata": {
        "id": "RDhMgPQCxhhn"
      },
      "source": [
        "## 세로로 붙이기 : 데이터 추가하기"
      ]
    },
    {
      "cell_type": "code",
      "execution_count": 86,
      "metadata": {
        "colab": {
          "base_uri": "https://localhost:8080/"
        },
        "id": "tqPoINi6SeHB",
        "outputId": "9a76fdb5-3627-43a3-a219-91d7e391a3a5"
      },
      "outputs": [
        {
          "name": "stdout",
          "output_type": "stream",
          "text": [
            "a\n",
            "[[0 1 2]\n",
            " [3 4 5]]\n",
            "\n",
            "b\n",
            "[[ 6  7  8]\n",
            " [ 9 10 11]]\n",
            "\n",
            "np.r_[a,b]\n",
            "[[ 0  1  2]\n",
            " [ 3  4  5]\n",
            " [ 6  7  8]\n",
            " [ 9 10 11]]\n",
            "\n",
            "np.vstack([a,b])\n",
            "[[ 0  1  2]\n",
            " [ 3  4  5]\n",
            " [ 6  7  8]\n",
            " [ 9 10 11]]\n",
            "\n",
            "np.concatenate([a,b], axis=0)\n",
            "[[ 0  1  2]\n",
            " [ 3  4  5]\n",
            " [ 6  7  8]\n",
            " [ 9 10 11]]\n",
            "\n"
          ]
        }
      ],
      "source": [
        "a = np.arange(6).reshape(2,3)\n",
        "b = np.arange(6,12).reshape(2,3)\n",
        "\n",
        "pa(a, \"a\")\n",
        "pa(b, \"b\")\n",
        "\n",
        "pa(np.r_[a,b], \"np.r_[a,b]\")\n",
        "\n",
        "pa(np.vstack([a,b]), \"np.vstack([a,b])\")\n",
        "\n",
        "pa(np.concatenate([a,b], axis=0), \"np.concatenate([a,b], axis=0)\")"
      ]
    },
    {
      "cell_type": "markdown",
      "metadata": {
        "id": "RdI6uftex2FW"
      },
      "source": [
        "## 가로로 붙이기 : 컬럼 추가하기"
      ]
    },
    {
      "cell_type": "code",
      "execution_count": 87,
      "metadata": {
        "colab": {
          "base_uri": "https://localhost:8080/"
        },
        "id": "Pw6D6jUoxks0",
        "outputId": "3245c8fe-96f2-44b1-e1cf-cea988d425c7"
      },
      "outputs": [
        {
          "name": "stdout",
          "output_type": "stream",
          "text": [
            "a\n",
            "[[0 1]\n",
            " [2 3]\n",
            " [4 5]]\n",
            "\n",
            "b\n",
            "[[ 6  7]\n",
            " [ 8  9]\n",
            " [10 11]]\n",
            "\n",
            "np.r_[a,b]\n",
            "[[ 0  1  6  7]\n",
            " [ 2  3  8  9]\n",
            " [ 4  5 10 11]]\n",
            "\n",
            "np.hstack([a,b])\n",
            "[[ 0  1  6  7]\n",
            " [ 2  3  8  9]\n",
            " [ 4  5 10 11]]\n",
            "\n",
            "np.concatenate([a,b], axis=1)\n",
            "[[ 0  1  6  7]\n",
            " [ 2  3  8  9]\n",
            " [ 4  5 10 11]]\n",
            "\n"
          ]
        }
      ],
      "source": [
        "a = np.arange(6).reshape(3,2)\n",
        "b = np.arange(6,12).reshape(3,2)\n",
        "\n",
        "pa(a, \"a\")\n",
        "pa(b, \"b\")\n",
        "\n",
        "pa(np.c_[a,b], \"np.r_[a,b]\")\n",
        "\n",
        "pa(np.hstack([a,b]), \"np.hstack([a,b])\")\n",
        "\n",
        "pa(np.concatenate([a,b], axis=1), \"np.concatenate([a,b], axis=1)\")"
      ]
    },
    {
      "cell_type": "markdown",
      "metadata": {
        "id": "z_zmQ4q_zNsB"
      },
      "source": [
        "# File 읽기/저장"
      ]
    },
    {
      "cell_type": "code",
      "execution_count": 88,
      "metadata": {
        "colab": {
          "base_uri": "https://localhost:8080/"
        },
        "id": "_qnD0KmTzQq-",
        "outputId": "57d17ce6-7d59-4101-ced4-1d5846b8d903"
      },
      "outputs": [
        {
          "name": "stdout",
          "output_type": "stream",
          "text": [
            "shape=(3, 4), dimension=2, dtype=int64\n",
            "[[ 0  1  2  3]\n",
            " [ 4  5  6  7]\n",
            " [ 8  9 10 11]]\n",
            "\n"
          ]
        }
      ],
      "source": [
        "a = np.arange(12).reshape(3,4)\n",
        "paf(a)\n",
        "\n",
        "np.savetxt(\"data.csv\", a, delimiter=',')"
      ]
    },
    {
      "cell_type": "code",
      "execution_count": 89,
      "metadata": {
        "colab": {
          "base_uri": "https://localhost:8080/"
        },
        "id": "VO-KRs4yzaD4",
        "outputId": "ee31f3bd-5f11-4263-82c5-270410ad03e3"
      },
      "outputs": [
        {
          "name": "stdout",
          "output_type": "stream",
          "text": [
            "total 20\n",
            "drwxr-xr-x 1 root root 4096 Jul 13 08:55 .\n",
            "drwxr-xr-x 1 root root 4096 Jul 13 08:54 ..\n",
            "drwxr-xr-x 4 root root 4096 Jul  6 13:21 .config\n",
            "-rw-r--r-- 1 root root  300 Jul 13 08:55 data.csv\n",
            "drwxr-xr-x 1 root root 4096 Jul  6 13:22 sample_data\n",
            "0.000000000000000000e+00,1.000000000000000000e+00,2.000000000000000000e+00,3.000000000000000000e+00\n",
            "4.000000000000000000e+00,5.000000000000000000e+00,6.000000000000000000e+00,7.000000000000000000e+00\n",
            "8.000000000000000000e+00,9.000000000000000000e+00,1.000000000000000000e+01,1.100000000000000000e+01\n"
          ]
        }
      ],
      "source": [
        "!ls -al \n",
        "!cat data.csv"
      ]
    },
    {
      "cell_type": "code",
      "execution_count": 90,
      "metadata": {
        "colab": {
          "base_uri": "https://localhost:8080/"
        },
        "id": "QUnpKUygzZdd",
        "outputId": "d73b696f-3823-45dc-c567-5e23812c59c1"
      },
      "outputs": [
        {
          "name": "stdout",
          "output_type": "stream",
          "text": [
            "shape=(3, 4), dimension=2, dtype=float64\n",
            "[[ 0.  1.  2.  3.]\n",
            " [ 4.  5.  6.  7.]\n",
            " [ 8.  9. 10. 11.]]\n",
            "\n"
          ]
        }
      ],
      "source": [
        "b = np.loadtxt(\"data.csv\", delimiter=',')\n",
        "paf(b)"
      ]
    },
    {
      "cell_type": "markdown",
      "metadata": {
        "id": "u1NLOJkBt3oc"
      },
      "source": [
        "# 기타"
      ]
    },
    {
      "cell_type": "markdown",
      "metadata": {
        "id": "Ciw-fUjxt5kE"
      },
      "source": [
        "## 인덱스로 샘플링"
      ]
    },
    {
      "cell_type": "code",
      "execution_count": 91,
      "metadata": {
        "colab": {
          "base_uri": "https://localhost:8080/"
        },
        "id": "Ecr6MMFcsjiW",
        "outputId": "ce4da375-1bf4-4596-cc9e-1f3bac097bd9"
      },
      "outputs": [
        {
          "name": "stdout",
          "output_type": "stream",
          "text": [
            "[[0 0 0]\n",
            " [1 1 1]\n",
            " [2 2 2]\n",
            " [3 3 3]]\n",
            "\n",
            "a[0]\n",
            "[0 0 0]\n",
            "\n",
            "a[[0]]]\n",
            "[[0 0 0]]\n",
            "\n",
            "indexes = [0]\n",
            "[[0 0 0]]\n",
            "\n",
            "indexes = [0,1,2]\n",
            "[[0 0 0]\n",
            " [1 1 1]\n",
            " [2 2 2]]\n",
            "\n",
            "indexes = [0,0,1,1,2,2]\n",
            "[[0 0 0]\n",
            " [0 0 0]\n",
            " [1 1 1]\n",
            " [1 1 1]\n",
            " [2 2 2]\n",
            " [2 2 2]]\n",
            "\n"
          ]
        }
      ],
      "source": [
        "a = np.array([\n",
        "              [0,0,0],\n",
        "              [1,1,1],\n",
        "              [2,2,2],\n",
        "              [3,3,3]\n",
        "])\n",
        "pa(a)\n",
        "\n",
        "pa(a[0], \"a[0]\")\n",
        "\n",
        "pa(a[[0]], \"a[[0]]]\")\n",
        "\n",
        "indexes = [0]\n",
        "pa(a[indexes], \"indexes = [0]\")\n",
        "\n",
        "indexes = [0,1,2]\n",
        "pa(a[indexes], \"indexes = [0,1,2]\")\n",
        "\n",
        "indexes = [0,0,1,1,2,2]\n",
        "pa(a[indexes], \"indexes = [0,0,1,1,2,2]\")"
      ]
    },
    {
      "cell_type": "code",
      "execution_count": 91,
      "metadata": {
        "id": "N7xub7qAtd2D"
      },
      "outputs": [],
      "source": []
    }
  ],
  "metadata": {
    "colab": {
      "collapsed_sections": [],
      "name": "numpy_for_deep_learning",
      "provenance": [],
      "toc_visible": true
    },
    "kernelspec": {
      "display_name": "Python 3",
      "name": "python3"
    },
    "language_info": {
      "name": "python"
    }
  },
  "nbformat": 4,
  "nbformat_minor": 0
}
